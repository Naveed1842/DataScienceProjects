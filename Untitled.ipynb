{
 "cells": [
  {
   "cell_type": "code",
   "execution_count": 1,
   "metadata": {
    "collapsed": true
   },
   "outputs": [],
   "source": [
    "import numpy as np\n"
   ]
  },
  {
   "cell_type": "code",
   "execution_count": 9,
   "metadata": {
    "collapsed": false
   },
   "outputs": [],
   "source": [
    "board = {\n",
    "    0: [4, 6],\n",
    "    1: [6, 8],\n",
    "    2: [7, 9],\n",
    "    3: [4, 8],\n",
    "    4: [0, 3, 9],\n",
    "    6: [0, 1, 7],\n",
    "    7: [2, 6],\n",
    "    8: [1, 3],\n",
    "    9: [2, 4]\n",
    "}"
   ]
  },
  {
   "cell_type": "code",
   "execution_count": 13,
   "metadata": {
    "collapsed": true
   },
   "outputs": [],
   "source": [
    "def choose_num(knight_ndx, num_steps):\n",
    "    if num_steps == 0:\n",
    "        return 1\n",
    "    else:\n",
    "        next_steps = board[knight_ndx]\n",
    "        unique_nums = 0\n",
    "        \n",
    "        for ndx in next_steps:\n",
    "            unique_nums += choose_num(ndx, num_steps - 1)\n",
    "        \n",
    "        return unique_nums"
   ]
  },
  {
   "cell_type": "code",
   "execution_count": 15,
   "metadata": {
    "collapsed": false
   },
   "outputs": [
    {
     "data": {
      "text/plain": [
       "136"
      ]
     },
     "execution_count": 15,
     "metadata": {},
     "output_type": "execute_result"
    }
   ],
   "source": [
    "choose_num(1, 6)"
   ]
  },
  {
   "cell_type": "code",
   "execution_count": null,
   "metadata": {
    "collapsed": true
   },
   "outputs": [],
   "source": []
  }
 ],
 "metadata": {
  "kernelspec": {
   "display_name": "Python 3",
   "language": "python",
   "name": "python3"
  },
  "language_info": {
   "codemirror_mode": {
    "name": "ipython",
    "version": 3
   },
   "file_extension": ".py",
   "mimetype": "text/x-python",
   "name": "python",
   "nbconvert_exporter": "python",
   "pygments_lexer": "ipython3",
   "version": "3.4.3"
  }
 },
 "nbformat": 4,
 "nbformat_minor": 0
}
