{
 "cells": [
  {
   "cell_type": "markdown",
   "metadata": {
    "nbgrader": {}
   },
   "source": [
    "# Project Euler: Problem 4"
   ]
  },
  {
   "cell_type": "markdown",
   "metadata": {
    "nbgrader": {}
   },
   "source": [
    "https://projecteuler.net/problem=4\n",
    "\n",
    "A palindromic number reads the same both ways. The largest palindrome made from the product of two 2-digit numbers is 9009 = 91 × 99.\n",
    "\n",
    "Find the largest palindrome made from the product of two 3-digit numbers."
   ]
  },
  {
   "cell_type": "code",
   "execution_count": 1,
   "metadata": {
    "collapsed": false
   },
   "outputs": [],
   "source": [
    "import math\n",
    "\n",
    "def is_palindrome(num):\n",
    "    reverse_num = 0\n",
    "    temp_num = num\n",
    "\n",
    "    while temp_num > 0:\n",
    "        reverse_num = reverse_num * 10 + temp_num % 10\n",
    "        temp_num /= 10\n",
    "        temp_num = math.floor(temp_num)\n",
    "\n",
    "    return reverse_num == num"
   ]
  },
  {
   "cell_type": "code",
   "execution_count": 2,
   "metadata": {
    "collapsed": false,
    "deletable": false,
    "nbgrader": {
     "checksum": "a5ba17ba2d63cc55e19ba1f4f9b03664",
     "grade": true,
     "grade_id": "projecteuler4",
     "locked": false,
     "points": 10,
     "solution": true
    },
    "scrolled": true
   },
   "outputs": [
    {
     "name": "stdout",
     "output_type": "stream",
     "text": [
      "906609\n"
     ]
    }
   ],
   "source": [
    "first_num = 999\n",
    "largest_palindrome = 0\n",
    "\n",
    "while first_num > 900:\n",
    "    second_num = 999\n",
    "\n",
    "    while second_num > 900:\n",
    "        if is_palindrome(first_num * second_num) and first_num * second_num > largest_palindrome:\n",
    "            largest_palindrome = first_num * second_num\n",
    "\n",
    "        second_num -= 1\n",
    "\n",
    "    first_num -= 1\n",
    "\n",
    "print(largest_palindrome)"
   ]
  }
 ],
 "metadata": {
  "kernelspec": {
   "display_name": "Python 3",
   "language": "python",
   "name": "python3"
  },
  "language_info": {
   "codemirror_mode": {
    "name": "ipython",
    "version": 3
   },
   "file_extension": ".py",
   "mimetype": "text/x-python",
   "name": "python",
   "nbconvert_exporter": "python",
   "pygments_lexer": "ipython3",
   "version": "3.4.3"
  }
 },
 "nbformat": 4,
 "nbformat_minor": 0
}
