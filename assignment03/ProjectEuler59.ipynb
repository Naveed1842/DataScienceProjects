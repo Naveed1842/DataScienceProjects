{
 "cells": [
  {
   "cell_type": "markdown",
   "metadata": {
    "nbgrader": {}
   },
   "source": [
    "# Project Euler: Problem 59"
   ]
  },
  {
   "cell_type": "markdown",
   "metadata": {
    "nbgrader": {}
   },
   "source": [
    "https://projecteuler.net/problem=59\n",
    "\n",
    "Each character on a computer is assigned a unique code and the preferred standard is ASCII (American Standard Code for Information Interchange). For example, uppercase A = 65, asterisk (*) = 42, and lowercase k = 107.\n",
    "\n",
    "A modern encryption method is to take a text file, convert the bytes to ASCII, then XOR each byte with a given value, taken from a secret key. The advantage with the XOR function is that using the same encryption key on the cipher text, restores the plain text; for example, 65 XOR 42 = 107, then 107 XOR 42 = 65.\n",
    "\n",
    "For unbreakable encryption, the key is the same length as the plain text message, and the key is made up of random bytes. The user would keep the encrypted message and the encryption key in different locations, and without both \"halves\", it is impossible to decrypt the message.\n",
    "\n",
    "Unfortunately, this method is impractical for most users, so the modified method is to use a password as a key. If the password is shorter than the message, which is likely, the key is repeated cyclically throughout the message. The balance for this method is using a sufficiently long password key for security, but short enough to be memorable.\n",
    "\n",
    "Your task has been made easy, as the encryption key consists of three lower case characters. Using cipher.txt (in this directory), a file containing the encrypted ASCII codes, and the knowledge that the plain text must contain common English words, decrypt the message and find the sum of the ASCII values in the original text."
   ]
  },
  {
   "cell_type": "markdown",
   "metadata": {
    "nbgrader": {}
   },
   "source": [
    "The following cell shows examples of how to perform XOR in Python and how to go back and forth between characters and integers:"
   ]
  },
  {
   "cell_type": "code",
   "execution_count": 1,
   "metadata": {
    "collapsed": true,
    "deletable": false,
    "nbgrader": {
     "checksum": "2c9303d19a2b6c22658ef4dbde6d63a3",
     "grade": false,
     "grade_id": "projecteuler59a",
     "locked": true,
     "solution": false
    }
   },
   "outputs": [],
   "source": [
    "assert 65 ^ 42 == 107\n",
    "assert 107 ^ 42 == 65\n",
    "assert ord('a') == 97\n",
    "assert chr(97) == 'a'"
   ]
  },
  {
   "cell_type": "markdown",
   "metadata": {
    "nbgrader": {}
   },
   "source": [
    "Certain functions in the `itertools` module may be useful for computing permutations:"
   ]
  },
  {
   "cell_type": "code",
   "execution_count": 2,
   "metadata": {
    "collapsed": true,
    "nbgrader": {}
   },
   "outputs": [],
   "source": [
    "import itertools\n",
    "import numpy as np\n",
    "import math"
   ]
  },
  {
   "cell_type": "code",
   "execution_count": 3,
   "metadata": {
    "collapsed": false,
    "deletable": false,
    "nbgrader": {
     "checksum": "ab1a44dadde94517fb804abf1c7b8131",
     "grade": true,
     "grade_id": "projecteuler59b",
     "locked": false,
     "points": 10,
     "solution": true
    }
   },
   "outputs": [],
   "source": [
    "def generate_key(keys, length):\n",
    "    arr = np.tile(keys, math.floor(length / len(keys)))\n",
    "    ret_arr = np.append(arr, keys[:length % len(keys)])\n",
    "    \n",
    "    return ret_arr"
   ]
  },
  {
   "cell_type": "code",
   "execution_count": 4,
   "metadata": {
    "collapsed": false
   },
   "outputs": [],
   "source": [
    "def xor(vals):\n",
    "    return int(vals[0]) ^ int(vals[1])\n",
    "\n",
    "def decrypt_msg(msg, key):\n",
    "    decrypted_msg = \"\"\n",
    "    \n",
    "    chars = []\n",
    "    for i in range(len(msg)):\n",
    "        chars.append(msg[i] ^ key[i])\n",
    "    #chars = list(map(xor, zip(msg, key)))\n",
    "    \n",
    "    for i in chars:\n",
    "        decrypted_msg += chr(i)\n",
    "    \n",
    "    return decrypted_msg"
   ]
  },
  {
   "cell_type": "code",
   "execution_count": 5,
   "metadata": {
    "collapsed": false
   },
   "outputs": [],
   "source": [
    "def has_common_words(msg):\n",
    "    count_the = msg.count(\"the\")\n",
    "    count_be = msg.count(\"be\")\n",
    "    count_to = msg.count(\"to\")\n",
    "    count_of = msg.count(\"of\")\n",
    "    \n",
    "    return count_the > 5"
   ]
  },
  {
   "cell_type": "code",
   "execution_count": 6,
   "metadata": {
    "collapsed": false,
    "scrolled": true
   },
   "outputs": [
    {
     "name": "stdout",
     "output_type": "stream",
     "text": [
      "107359\n"
     ]
    }
   ],
   "source": [
    "f = open(\"cipher.txt\")\n",
    "\n",
    "a = list(map(int, f.read().split(',')))\n",
    "\n",
    "# found key using the following algorithm. Scanned keyspace for all possible 3 letter keys.\n",
    "# tested each decrypted message for common english words\n",
    "keys = [103,111,100]\n",
    "# for i in range(97, 122):\n",
    "#     for j in range(97, 122):\n",
    "#         for k in range(97, 122):\n",
    "#             print(str(i) + \", \" + str(j) + \", \" + str(k))\n",
    "#             key = generate_key([i, j, k], len(a))\n",
    "#             decrypted_msg = decrypt_msg(a, key)\n",
    "            \n",
    "#             if has_common_words(decrypted_msg):\n",
    "#                 print(decrypted_msg)\n",
    "\n",
    "key = generate_key(keys, len(a))\n",
    "decrypted_msg = decrypt_msg(a, key)\n",
    "# print(decrypted_msg)\n",
    "\n",
    "sum_words = 0\n",
    "for i in decrypted_msg:\n",
    "    sum_words += ord(i)\n",
    "    \n",
    "print(sum_words)"
   ]
  },
  {
   "cell_type": "code",
   "execution_count": null,
   "metadata": {
    "collapsed": true
   },
   "outputs": [],
   "source": []
  }
 ],
 "metadata": {
  "kernelspec": {
   "display_name": "Python 3",
   "language": "python",
   "name": "python3"
  },
  "language_info": {
   "codemirror_mode": {
    "name": "ipython",
    "version": 3
   },
   "file_extension": ".py",
   "mimetype": "text/x-python",
   "name": "python",
   "nbconvert_exporter": "python",
   "pygments_lexer": "ipython3",
   "version": "3.4.3"
  }
 },
 "nbformat": 4,
 "nbformat_minor": 0
}
