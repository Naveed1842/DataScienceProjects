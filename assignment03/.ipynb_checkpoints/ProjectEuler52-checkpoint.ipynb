{
 "cells": [
  {
   "cell_type": "markdown",
   "metadata": {
    "nbgrader": {}
   },
   "source": [
    "# Project Euler: Problem 52"
   ]
  },
  {
   "cell_type": "markdown",
   "metadata": {
    "nbgrader": {}
   },
   "source": [
    "https://projecteuler.net/problem=52\n",
    "\n",
    "It can be seen that the number, $125874$, and its double, $251748$, contain exactly the same digits, but in a different order.\n",
    "\n",
    "Find the smallest positive integer, $x$, such that $2x$, $3x$, $4x$, $5x$, and $6x$, contain the same digits."
   ]
  },
  {
   "cell_type": "markdown",
   "metadata": {
    "nbgrader": {}
   },
   "source": [
    "First, write a function `same_digits(x,y)` that returns `True` if two integers `x` and `y` have the exact same set of digits and multiplicities and `False` if they have different digits."
   ]
  },
  {
   "cell_type": "code",
   "execution_count": 1,
   "metadata": {
    "collapsed": false,
    "deletable": false,
    "nbgrader": {
     "checksum": "2dd4de69c776df11b701349e87ca7dd9",
     "grade": false,
     "grade_id": "projecteuler52a",
     "locked": false,
     "solution": true
    }
   },
   "outputs": [],
   "source": [
    "# Complexity 2n+10 implementation\n",
    "def same_digits(x, y):\n",
    "    n1 = str(x)\n",
    "    n2 = str(y)\n",
    "    count_nums1 = [0] * 10\n",
    "    count_nums2 = [0] * 10\n",
    "    is_matching = True\n",
    "    \n",
    "    for i in n1:\n",
    "        count_nums1[int(i)] += 1\n",
    "    \n",
    "    for i in n2:\n",
    "        count_nums2[int(i)] += 1\n",
    "    \n",
    "    i = 0\n",
    "    while i < len(count_nums1) and is_matching:\n",
    "        if count_nums1[i] != count_nums2[i]:\n",
    "            is_matching = False\n",
    "            \n",
    "        i += 1\n",
    "    \n",
    "    return is_matching"
   ]
  },
  {
   "cell_type": "code",
   "execution_count": 2,
   "metadata": {
    "collapsed": false,
    "deletable": false,
    "nbgrader": {
     "checksum": "68dd62be6ea1a948a22a44b0dc533f80",
     "grade": true,
     "grade_id": "projecteuler52b",
     "points": 4
    }
   },
   "outputs": [],
   "source": [
    "assert same_digits('132', '321')\n",
    "assert not same_digits('123', '3')\n",
    "assert not same_digits('456', '0987654321')"
   ]
  },
  {
   "cell_type": "markdown",
   "metadata": {
    "nbgrader": {}
   },
   "source": [
    "Now use the `same_digits` function to solve this Euler problem. As you work on this problem, be careful to debug and test your code on small integers before trying it on the full search."
   ]
  },
  {
   "cell_type": "code",
   "execution_count": 3,
   "metadata": {
    "collapsed": false,
    "deletable": false,
    "nbgrader": {
     "checksum": "f4573370c3c6d32546e96be8069eb09f",
     "grade": true,
     "grade_id": "projecteuler52c",
     "locked": false,
     "points": 6,
     "solution": true
    }
   },
   "outputs": [
    {
     "name": "stdout",
     "output_type": "stream",
     "text": [
      "142857\n"
     ]
    }
   ],
   "source": [
    "has_found_answer = False\n",
    "i = 2\n",
    "\n",
    "while not has_found_answer:\n",
    "    if same_digits(i, i * 2) and same_digits(i, i * 3) and same_digits(i, i * 4):\n",
    "        print(i)\n",
    "        has_found_answer = True\n",
    "    \n",
    "    i += 1"
   ]
  }
 ],
 "metadata": {
  "kernelspec": {
   "display_name": "Python 3",
   "language": "python",
   "name": "python3"
  },
  "language_info": {
   "codemirror_mode": {
    "name": "ipython",
    "version": 3
   },
   "file_extension": ".py",
   "mimetype": "text/x-python",
   "name": "python",
   "nbconvert_exporter": "python",
   "pygments_lexer": "ipython3",
   "version": "3.4.3"
  }
 },
 "nbformat": 4,
 "nbformat_minor": 0
}
