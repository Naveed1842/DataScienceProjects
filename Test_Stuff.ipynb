{
 "cells": [
  {
   "cell_type": "code",
   "execution_count": 19,
   "metadata": {
    "collapsed": true
   },
   "outputs": [],
   "source": [
    "def create_dict_letters(string):\n",
    "    temp = string.lower()\n",
    "    ret_dict = {}\n",
    "    \n",
    "    for letter in temp:\n",
    "        if letter in ret_dict:\n",
    "            ret_dict[letter] += 1\n",
    "        else:\n",
    "            ret_dict[letter] = 1\n",
    "    \n",
    "    return ret_dict"
   ]
  },
  {
   "cell_type": "code",
   "execution_count": 20,
   "metadata": {
    "collapsed": false
   },
   "outputs": [],
   "source": [
    "def is_anagram(string1, string2):\n",
    "    dict1 = create_dict_letters(word1)\n",
    "    dict2 = create_dict_letters(word2)\n",
    "\n",
    "    if len(dict1) != len(dict2):\n",
    "        return False\n",
    "    else:\n",
    "        for key in dict1:\n",
    "            if key not in dict2:\n",
    "                return False\n",
    "            elif dict1[key] != dict2[key]:\n",
    "                return False\n",
    "            \n",
    "        return True\n"
   ]
  },
  {
   "cell_type": "code",
   "execution_count": 24,
   "metadata": {
    "collapsed": false
   },
   "outputs": [
    {
     "data": {
      "text/plain": [
       "False"
      ]
     },
     "execution_count": 24,
     "metadata": {},
     "output_type": "execute_result"
    }
   ],
   "source": [
    "word1 = \"SasHa\"\n",
    "word2 = \"madi\"\n",
    "is_anagram(word1, word2)"
   ]
  },
  {
   "cell_type": "code",
   "execution_count": null,
   "metadata": {
    "collapsed": true
   },
   "outputs": [],
   "source": []
  }
 ],
 "metadata": {
  "kernelspec": {
   "display_name": "Python 3",
   "language": "python",
   "name": "python3"
  },
  "language_info": {
   "codemirror_mode": {
    "name": "ipython",
    "version": 3
   },
   "file_extension": ".py",
   "mimetype": "text/x-python",
   "name": "python",
   "nbconvert_exporter": "python",
   "pygments_lexer": "ipython3",
   "version": "3.4.3"
  }
 },
 "nbformat": 4,
 "nbformat_minor": 0
}
