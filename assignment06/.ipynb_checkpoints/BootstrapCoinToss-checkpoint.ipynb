{
 "cells": [
  {
   "cell_type": "markdown",
   "metadata": {},
   "source": [
    "# Bootstrapping the Coin Toss"
   ]
  },
  {
   "cell_type": "markdown",
   "metadata": {},
   "source": [
    "In this notebook, you will simulate a fair coin toss using a Bernoulli distribution and then use <a href=\"https://en.wikipedia.org/wiki/Bootstrapping_(statistics)\">bootstrapping</a> to quantify the fairness of the coin and its uncertainty."
   ]
  },
  {
   "cell_type": "markdown",
   "metadata": {},
   "source": [
    "## Imports"
   ]
  },
  {
   "cell_type": "code",
   "execution_count": 1,
   "metadata": {
    "collapsed": true
   },
   "outputs": [],
   "source": [
    "import numpy as np\n",
    "%matplotlib inline\n",
    "from matplotlib import pyplot as plt\n",
    "import seaborn as sns"
   ]
  },
  {
   "cell_type": "markdown",
   "metadata": {},
   "source": [
    "## Bootstrapping the fair coin toss"
   ]
  },
  {
   "cell_type": "code",
   "execution_count": 2,
   "metadata": {
    "collapsed": true
   },
   "outputs": [],
   "source": [
    "n = 500"
   ]
  },
  {
   "cell_type": "markdown",
   "metadata": {},
   "source": [
    "Use `numpy.random.choice` to simulate `n` tosses of a fair coin that has values of `H` and `T` with equal probabilities. Save the data in a NumPy array named `data`."
   ]
  },
  {
   "cell_type": "code",
   "execution_count": 3,
   "metadata": {
    "collapsed": false,
    "deletable": false,
    "nbgrader": {
     "checksum": "aa1015c6d309aee4680f429bbcdc94cb",
     "grade": true,
     "grade_id": "cointossa",
     "locked": false,
     "points": 1,
     "solution": true
    }
   },
   "outputs": [],
   "source": [
    "data = np.random.choice(['H', 'T'], n)"
   ]
  },
  {
   "cell_type": "markdown",
   "metadata": {},
   "source": [
    "Make an appropriately labeled `countplot` using Seaborn to visualize the coin tosses:"
   ]
  },
  {
   "cell_type": "code",
   "execution_count": 4,
   "metadata": {
    "collapsed": false,
    "deletable": false,
    "nbgrader": {
     "checksum": "1933ed75bc545fc0ea6e9b51e7774eb3",
     "grade": true,
     "grade_id": "cointossb",
     "locked": false,
     "points": 1,
     "solution": true
    }
   },
   "outputs": [
    {
     "data": {
      "text/plain": [
       "<matplotlib.axes._subplots.AxesSubplot at 0x7f835b1b8400>"
      ]
     },
     "execution_count": 4,
     "metadata": {},
     "output_type": "execute_result"
    },
    {
     "data": {
      "image/png": "[encoded data removed]",
      "text/plain": [
       "<matplotlib.figure.Figure at 0x7f835b193e80>"
      ]
     },
     "metadata": {},
     "output_type": "display_data"
    }
   ],
   "source": [
    "sns.countplot(x=data)"
   ]
  },
  {
   "cell_type": "markdown",
   "metadata": {},
   "source": [
    "Write a function, `fair`, that computes the ratio of the number of `H` values to the total number of values."
   ]
  },
  {
   "cell_type": "code",
   "execution_count": 5,
   "metadata": {
    "collapsed": false,
    "deletable": false,
    "nbgrader": {
     "checksum": "69be946478589b9c63ebc6e334857585",
     "grade": false,
     "grade_id": "cointossc",
     "locked": false,
     "solution": true
    }
   },
   "outputs": [],
   "source": [
    "def fair(data):\n",
    "    return (data == 'H').sum() / len(data)"
   ]
  },
  {
   "cell_type": "code",
   "execution_count": 6,
   "metadata": {
    "collapsed": false,
    "deletable": false,
    "nbgrader": {
     "checksum": "7141d34832583eadea483adcbcc9d8d2",
     "grade": true,
     "grade_id": "cointossd",
     "locked": true,
     "points": 1,
     "solution": false
    }
   },
   "outputs": [],
   "source": [
    "assert fair(np.array(['H','H','T','T']))==0.5\n",
    "assert fair(np.array(['T','T','T','T']))==0.0\n",
    "assert fair(np.array(['H','H','H','T']))==0.75\n",
    "assert fair(np.array(['H','H','H','H']))==1.0"
   ]
  },
  {
   "cell_type": "markdown",
   "metadata": {},
   "source": [
    "Write a function, `bootstrap_data` that can bootstrap resample a 1d NumPy array a single time. The return value should be an array with the same shape as the input, with random samples drawn from the input array with replacement."
   ]
  },
  {
   "cell_type": "code",
   "execution_count": 7,
   "metadata": {
    "collapsed": true,
    "deletable": false,
    "nbgrader": {
     "checksum": "e9cfcd8f06d402b1ce3df01642335dc7",
     "grade": false,
     "grade_id": "cointosse",
     "locked": false,
     "solution": true
    }
   },
   "outputs": [],
   "source": [
    "def bootstrap_data(data):\n",
    "    dat_len = len(data)\n",
    "    return np.array([data[i] for i in np.random.randint(0, dat_len, dat_len)])"
   ]
  },
  {
   "cell_type": "code",
   "execution_count": 8,
   "metadata": {
    "collapsed": false,
    "deletable": false,
    "nbgrader": {
     "checksum": "382414cbb3c9717c34e5928952a9809d",
     "grade": true,
     "grade_id": "cointossf",
     "locked": true,
     "points": 1,
     "solution": false
    }
   },
   "outputs": [],
   "source": [
    "test_data = np.random.randint(10, size=10)\n",
    "test_data_re = bootstrap_data(test_data)\n",
    "assert test_data.shape==test_data_re.shape\n",
    "for element in test_data_re:\n",
    "    assert element in test_data"
   ]
  },
  {
   "cell_type": "markdown",
   "metadata": {},
   "source": [
    "Write a function, `bootstrap_function`, that can apply a function to `n` bootstrapped versions of an input array:"
   ]
  },
  {
   "cell_type": "code",
   "execution_count": 9,
   "metadata": {
    "collapsed": true,
    "deletable": false,
    "nbgrader": {
     "checksum": "28041815fcd331b32286b973f9a41cf9",
     "grade": false,
     "grade_id": "cointossg",
     "locked": false,
     "solution": true
    }
   },
   "outputs": [],
   "source": [
    "def bootstrap_function(data, f, n):\n",
    "    \"\"\"Compute a function on data bootstrapped n times.\n",
    "    \n",
    "    Parameters\n",
    "    ----------\n",
    "    data: ndarray\n",
    "        The input data to be resampled.\n",
    "    f: function(data)\n",
    "        The function to be applied to the boostrapped data. The function should take a single\n",
    "        argument (the data) and return a float.\n",
    "    n: int\n",
    "        The number of times to resample the data\n",
    "        \n",
    "    Returns\n",
    "    -------\n",
    "    result: ndarray\n",
    "        An n element array of the values of the function applied to the resampled data.\n",
    "    \"\"\"\n",
    "    return np.array([f(bootstrap_data(data)) for i in range(n)])"
   ]
  },
  {
   "cell_type": "code",
   "execution_count": 10,
   "metadata": {
    "collapsed": false,
    "deletable": false,
    "nbgrader": {
     "checksum": "6d2879b8d7c847395a814a80ea64572c",
     "grade": true,
     "grade_id": "cointossh",
     "locked": true,
     "points": 2,
     "solution": false
    }
   },
   "outputs": [],
   "source": [
    "test_data = np.array([0,0,0,0,1,1,1,1])\n",
    "fb = bootstrap_function(test_data, lambda data: 1.0, 10)\n",
    "assert np.allclose(fb, np.array(10*[1.0]))\n",
    "fb = bootstrap_function(test_data, lambda data: data.mean(), 10)\n",
    "assert fb.mean()<1.0 and fb.mean()>0.0"
   ]
  },
  {
   "cell_type": "markdown",
   "metadata": {},
   "source": [
    "Now use `bootstrap_function` to apply the `fair` function to `200` bootstrapped versions of the original data above to compute the bootstrapped distribution of coin fairness."
   ]
  },
  {
   "cell_type": "code",
   "execution_count": 11,
   "metadata": {
    "collapsed": false,
    "deletable": false,
    "nbgrader": {
     "checksum": "0086a7e7472d6891b4e66f4caab6006d",
     "grade": true,
     "grade_id": "cointossi",
     "locked": false,
     "points": 1,
     "solution": true
    }
   },
   "outputs": [],
   "source": [
    "fairness = bootstrap_function(data, fair, 200)"
   ]
  },
  {
   "cell_type": "markdown",
   "metadata": {},
   "source": [
    "Visualize the bootstrapped fairness distribution using an appropriately labeled Seaborn `distplot`. Make sure your x-limit spans $[0,1]$. The distribution should be peaked near 0.5 (fair coin), but have a finite variance indicating the uncertainty in the fairness."
   ]
  },
  {
   "cell_type": "code",
   "execution_count": 12,
   "metadata": {
    "collapsed": false,
    "deletable": false,
    "nbgrader": {
     "checksum": "a4f2fafd920ca7d6a124043c0f5764f8",
     "grade": true,
     "grade_id": "cointossj",
     "locked": false,
     "points": 2,
     "solution": true
    },
    "scrolled": true
   },
   "outputs": [
    {
     "data": {
      "image/png": "[encoded data removed]",
      "text/plain": [
       "<matplotlib.figure.Figure at 0x7f835ac99e48>"
      ]
     },
     "metadata": {},
     "output_type": "display_data"
    }
   ],
   "source": [
    "sns.distplot(fairness)\n",
    "sns.axlabel(\"Probability Of Heads\", \"Count\")"
   ]
  },
  {
   "cell_type": "markdown",
   "metadata": {},
   "source": [
    "Compute the mean and 95% confidence interval for the fairness using `np.percentile`:"
   ]
  },
  {
   "cell_type": "code",
   "execution_count": 13,
   "metadata": {
    "collapsed": false,
    "deletable": false,
    "nbgrader": {
     "checksum": "eb073f9c0f76332c2277c17ec7caaf9c",
     "grade": true,
     "grade_id": "cointossk",
     "locked": false,
     "points": 1,
     "solution": true
    }
   },
   "outputs": [
    {
     "name": "stdout",
     "output_type": "stream",
     "text": [
      "Mean: 0.52411\n",
      "95% confidence interval: 0.558\n"
     ]
    }
   ],
   "source": [
    "print(\"Mean: \" + str(fairness.mean()))\n",
    "print(\"95% confidence interval: \" + str(np.percentile(fairness, 95)))"
   ]
  }
 ],
 "metadata": {
  "kernelspec": {
   "display_name": "Python 3",
   "language": "python",
   "name": "python3"
  },
  "language_info": {
   "codemirror_mode": {
    "name": "ipython",
    "version": 3
   },
   "file_extension": ".py",
   "mimetype": "text/x-python",
   "name": "python",
   "nbconvert_exporter": "python",
   "pygments_lexer": "ipython3",
   "version": "3.4.3"
  }
 },
 "nbformat": 4,
 "nbformat_minor": 0
}
