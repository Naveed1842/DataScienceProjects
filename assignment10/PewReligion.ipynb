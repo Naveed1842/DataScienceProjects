{
 "cells": [
  {
   "cell_type": "markdown",
   "metadata": {},
   "source": [
    "# Pew Research Center's Religious Landscape Study"
   ]
  },
  {
   "cell_type": "markdown",
   "metadata": {},
   "source": [
    "In this notebook you will clean and wrangle a dataset that has come out of the Pew Research Center's [Religious Landscape Study](http://www.pewforum.org/religious-landscape-study/). The actual dataset used comes from Hadley Wickham's [Tidy Data Repository](https://github.com/hadley/tidy-data)."
   ]
  },
  {
   "cell_type": "markdown",
   "metadata": {},
   "source": [
    "## Imports"
   ]
  },
  {
   "cell_type": "code",
   "execution_count": 103,
   "metadata": {
    "collapsed": true
   },
   "outputs": [],
   "source": [
    "%matplotlib inline\n",
    "import matplotlib.pyplot as plt\n",
    "import seaborn as sns\n",
    "\n",
    "import numpy as np\n",
    "import pandas as pd"
   ]
  },
  {
   "cell_type": "markdown",
   "metadata": {},
   "source": [
    "## Read in the data"
   ]
  },
  {
   "cell_type": "markdown",
   "metadata": {},
   "source": [
    "Here, we read in the data using `read_csv`:"
   ]
  },
  {
   "cell_type": "code",
   "execution_count": 104,
   "metadata": {
    "collapsed": false
   },
   "outputs": [],
   "source": [
    "df = pd.read_csv('/data/tidy-data/data/pew.csv')"
   ]
  },
  {
   "cell_type": "markdown",
   "metadata": {},
   "source": [
    "Extract the following columns and rename them:\n",
    "\n",
    "* `q16`\n",
    "* `reltrad` -> `religion`\n",
    "* `income`"
   ]
  },
  {
   "cell_type": "code",
   "execution_count": 105,
   "metadata": {
    "collapsed": false,
    "deletable": false,
    "nbgrader": {
     "checksum": "d05111f46ef8414131c8c9b9046bf809",
     "grade": false,
     "grade_id": "pew-religion-a",
     "locked": false,
     "solution": true
    }
   },
   "outputs": [],
   "source": [
    "df = df[['q16', 'reltrad', 'income']]\n",
    "df.columns = ['q16', 'religion', 'income']"
   ]
  },
  {
   "cell_type": "code",
   "execution_count": 106,
   "metadata": {
    "collapsed": false
   },
   "outputs": [
    {
     "data": {
      "text/html": [
       "<div>\n",
       "<table border=\"1\" class=\"dataframe\">\n",
       "  <thead>\n",
       "    <tr style=\"text-align: right;\">\n",
       "      <th></th>\n",
       "      <th>q16</th>\n",
       "      <th>religion</th>\n",
       "      <th>income</th>\n",
       "    </tr>\n",
       "  </thead>\n",
       "  <tbody>\n",
       "    <tr>\n",
       "      <th>0</th>\n",
       "      <td>Protestant</td>\n",
       "      <td>Evangelical Protestant Churches</td>\n",
       "      <td>75 to under $100,000</td>\n",
       "    </tr>\n",
       "    <tr>\n",
       "      <th>1</th>\n",
       "      <td>Protestant</td>\n",
       "      <td>Mainline Protestant Churches</td>\n",
       "      <td>20 to under $30,000</td>\n",
       "    </tr>\n",
       "    <tr>\n",
       "      <th>2</th>\n",
       "      <td>Protestant</td>\n",
       "      <td>Mainline Protestant Churches</td>\n",
       "      <td>30 to under $40,000</td>\n",
       "    </tr>\n",
       "    <tr>\n",
       "      <th>3</th>\n",
       "      <td>Nothing in particular</td>\n",
       "      <td>Unaffiliated</td>\n",
       "      <td>Less than $10,000</td>\n",
       "    </tr>\n",
       "    <tr>\n",
       "      <th>4</th>\n",
       "      <td>Jewish (Judaism)</td>\n",
       "      <td>Jewish</td>\n",
       "      <td>50 to under $75,000</td>\n",
       "    </tr>\n",
       "  </tbody>\n",
       "</table>\n",
       "</div>"
      ],
      "text/plain": [
       "                       q16                           religion  \\\n",
       "0              Protestant    Evangelical Protestant Churches    \n",
       "1              Protestant       Mainline Protestant Churches    \n",
       "2              Protestant       Mainline Protestant Churches    \n",
       "3   Nothing in particular                       Unaffiliated    \n",
       "4        Jewish (Judaism)                             Jewish    \n",
       "\n",
       "                 income  \n",
       "0  75 to under $100,000  \n",
       "1   20 to under $30,000  \n",
       "2   30 to under $40,000  \n",
       "3     Less than $10,000  \n",
       "4   50 to under $75,000  "
      ]
     },
     "execution_count": 106,
     "metadata": {},
     "output_type": "execute_result"
    }
   ],
   "source": [
    "df.head()"
   ]
  },
  {
   "cell_type": "code",
   "execution_count": 107,
   "metadata": {
    "collapsed": true,
    "deletable": false,
    "nbgrader": {
     "checksum": "2dc1ddacf369cba41d6f21952e4ea714",
     "grade": true,
     "grade_id": "pew-religion-b",
     "locked": true,
     "points": 2,
     "solution": false
    }
   },
   "outputs": [],
   "source": [
    "assert list(df.columns)==['q16', 'religion', 'income']\n",
    "assert len(df)==35556"
   ]
  },
  {
   "cell_type": "markdown",
   "metadata": {},
   "source": [
    "## Religion"
   ]
  },
  {
   "cell_type": "markdown",
   "metadata": {},
   "source": [
    "Now you are going to tidy up the `religion` column. Perform the following transformations of the `religion` column:\n",
    "\n",
    "* Replace `'Churches'` by an empty string\n",
    "* Replace `'Protestant'` by `'Prot'`\n",
    "* For the rows that have `\" Atheist (do not believe in God) \"` in the `q16` column, put the value `'Atheist'` in the\n",
    "  `religion` column\n",
    "* For rows that have `\" Agnostic (not sure if there is a God) \"` in the `q16` column, put the value `'Agnostic'` in the `religion` column\n",
    "* For rows that have the phrase `\"(no information on religious affiliation)\"`, replace their value by `'Unknown'`\n",
    "* Strip leading and trailing whitespace"
   ]
  },
  {
   "cell_type": "code",
   "execution_count": 108,
   "metadata": {
    "collapsed": false,
    "deletable": false,
    "nbgrader": {
     "checksum": "552b1ff0f19f4b7546a1df5873c4d42b",
     "grade": false,
     "grade_id": "pew-religion-c",
     "locked": false,
     "solution": true
    }
   },
   "outputs": [
    {
     "name": "stderr",
     "output_type": "stream",
     "text": [
      "/usr/local/lib/python3.4/dist-packages/ipykernel/__main__.py:4: UserWarning: This pattern has match groups. To actually get the groups, use str.extract.\n"
     ]
    }
   ],
   "source": [
    "df['religion'] = df['religion'].replace({'Churches': '', 'Protestant': 'Prot'}, regex=True)\n",
    "df['religion'][df['q16'] == ' Atheist (do not believe in God) '] = 'Atheist'\n",
    "df['religion'][df['q16'] == ' Agnostic (not sure if there is a God) '] = 'Agnostic'\n",
    "df['religion'][df['religion'].str.contains(\"(no information on religious affiliation)\")] = \"Unknown\"\n",
    "df['religion'] = df['religion'].apply(str.strip)"
   ]
  },
  {
   "cell_type": "code",
   "execution_count": 109,
   "metadata": {
    "collapsed": false,
    "deletable": false,
    "nbgrader": {
     "checksum": "86af6d5ce742920b6254c7e8949fe6fb",
     "grade": true,
     "grade_id": "pew-religion-d",
     "locked": true,
     "points": 2,
     "solution": false
    }
   },
   "outputs": [],
   "source": [
    "assert list(df['religion'].unique()) == \\\n",
    "['Evangelical Prot',\n",
    " 'Mainline Prot',\n",
    " 'Unaffiliated',\n",
    " 'Jewish',\n",
    " 'Unknown',\n",
    " 'Other Faiths',\n",
    " 'Historically Black Prot',\n",
    " \"Jehovah's Witness\",\n",
    " 'Atheist',\n",
    " 'Agnostic',\n",
    " 'Catholic',\n",
    " 'Buddhist',\n",
    " 'Mormon',\n",
    " 'Muslim',\n",
    " 'Hindu',\n",
    " 'Other Christian',\n",
    " 'Orthodox',\n",
    " 'Other World Religions']"
   ]
  },
  {
   "cell_type": "markdown",
   "metadata": {},
   "source": [
    "Now do the following:\n",
    "\n",
    "* Extract out just the `religion` and `income` columns\n",
    "* Convert the `religion` column to a categorical type"
   ]
  },
  {
   "cell_type": "code",
   "execution_count": 110,
   "metadata": {
    "collapsed": false,
    "deletable": false,
    "nbgrader": {
     "checksum": "d35886d61816e95351d6de1972003ab1",
     "grade": false,
     "grade_id": "pew-religion-e",
     "locked": false,
     "solution": true
    }
   },
   "outputs": [],
   "source": [
    "df = df[['religion', 'income']]\n",
    "df['religion'] = df['religion'].astype('category')"
   ]
  },
  {
   "cell_type": "code",
   "execution_count": 111,
   "metadata": {
    "collapsed": false
   },
   "outputs": [
    {
     "data": {
      "text/html": [
       "<div>\n",
       "<table border=\"1\" class=\"dataframe\">\n",
       "  <thead>\n",
       "    <tr style=\"text-align: right;\">\n",
       "      <th></th>\n",
       "      <th>religion</th>\n",
       "      <th>income</th>\n",
       "    </tr>\n",
       "  </thead>\n",
       "  <tbody>\n",
       "    <tr>\n",
       "      <th>0</th>\n",
       "      <td>Evangelical Prot</td>\n",
       "      <td>75 to under $100,000</td>\n",
       "    </tr>\n",
       "    <tr>\n",
       "      <th>1</th>\n",
       "      <td>Mainline Prot</td>\n",
       "      <td>20 to under $30,000</td>\n",
       "    </tr>\n",
       "    <tr>\n",
       "      <th>2</th>\n",
       "      <td>Mainline Prot</td>\n",
       "      <td>30 to under $40,000</td>\n",
       "    </tr>\n",
       "    <tr>\n",
       "      <th>3</th>\n",
       "      <td>Unaffiliated</td>\n",
       "      <td>Less than $10,000</td>\n",
       "    </tr>\n",
       "    <tr>\n",
       "      <th>4</th>\n",
       "      <td>Jewish</td>\n",
       "      <td>50 to under $75,000</td>\n",
       "    </tr>\n",
       "  </tbody>\n",
       "</table>\n",
       "</div>"
      ],
      "text/plain": [
       "           religion                income\n",
       "0  Evangelical Prot  75 to under $100,000\n",
       "1     Mainline Prot   20 to under $30,000\n",
       "2     Mainline Prot   30 to under $40,000\n",
       "3      Unaffiliated     Less than $10,000\n",
       "4            Jewish   50 to under $75,000"
      ]
     },
     "execution_count": 111,
     "metadata": {},
     "output_type": "execute_result"
    }
   ],
   "source": [
    "df.head()"
   ]
  },
  {
   "cell_type": "code",
   "execution_count": 112,
   "metadata": {
    "collapsed": false,
    "deletable": false,
    "nbgrader": {
     "checksum": "d4a53879e3b66ba10f3f13ecf475b10b",
     "grade": true,
     "grade_id": "pew-religion-f",
     "locked": true,
     "points": 2,
     "solution": false
    }
   },
   "outputs": [],
   "source": [
    "assert list(df.columns)==['religion', 'income']\n",
    "assert df.religion.dtype.name=='category'"
   ]
  },
  {
   "cell_type": "markdown",
   "metadata": {},
   "source": [
    "Now make an appropriately labeled Seaborn `countplot` of the `religion` column on the y-axis, sorted by the number of people in each religion."
   ]
  },
  {
   "cell_type": "code",
   "execution_count": 113,
   "metadata": {
    "collapsed": false,
    "deletable": false,
    "nbgrader": {
     "checksum": "3442195d6d8c2f770fe24a76ed7ee12e",
     "grade": true,
     "grade_id": "pew-religion-g",
     "locked": false,
     "points": 4,
     "solution": true
    }
   },
   "outputs": [
    {
     "data": {
      "image/png": "[encoded data removed]",
      "text/plain": [
       "<matplotlib.figure.Figure at 0x7fc6bfdc2a20>"
      ]
     },
     "metadata": {},
     "output_type": "display_data"
    }
   ],
   "source": [
    "sns.countplot(y=df['religion'], order=['Other World Religions', \n",
    "                                       'Muslim', \n",
    "                                       'Other Christian', \n",
    "                                       \"Jehovah's Witness\", \n",
    "                                       'Hindu', \n",
    "                                       'Unknown', \n",
    "                                       'Orthodox',\n",
    "                                       'Buddhist',\n",
    "                                       'Other Faiths',\n",
    "                                       'Atheist',\n",
    "                                       'Mormon',\n",
    "                                       'Jewish',\n",
    "                                       'Agnostic',\n",
    "                                       'Historically Black Prot',\n",
    "                                       'Unaffiliated',\n",
    "                                       'Mainline Prot',\n",
    "                                       'Catholic',\n",
    "                                       'Evangelical Prot']);"
   ]
  },
  {
   "cell_type": "markdown",
   "metadata": {},
   "source": [
    "## Income"
   ]
  },
  {
   "cell_type": "markdown",
   "metadata": {},
   "source": [
    "Now work on the `income` column. Replace the existing income strings by the ones in the tests below:"
   ]
  },
  {
   "cell_type": "code",
   "execution_count": 114,
   "metadata": {
    "collapsed": false,
    "deletable": false,
    "nbgrader": {
     "checksum": "6e1ea42bf3d5157527f1727f8058b619",
     "grade": false,
     "grade_id": "pew-religion-h",
     "locked": false,
     "solution": true
    }
   },
   "outputs": [],
   "source": [
    "df['income'] = df['income'].replace({'75 to under $100,000': '$75-100k',\n",
    "                                     '20 to under $30,000': '$20-30k',\n",
    "                                     '30 to under $40,000': '$30-40k',\n",
    "                                     'Less than $10,000': '<$10k',\n",
    "                                     '50 to under $75,000': '$50-75k',\n",
    "                                     '$150,000 or more': '>150k',\n",
    "                                     '40 to under $50,000': '$40-50k',\n",
    "                                     \"Don't know/Refused (VOL.)\": 'Unknown',\n",
    "                                     \"100 to under $150,000\": '$100-150k',\n",
    "                                     \"10 to under $20,000\": '$10-20k'\n",
    "                                     }, regex=False)"
   ]
  },
  {
   "cell_type": "code",
   "execution_count": 115,
   "metadata": {
    "collapsed": false,
    "deletable": false,
    "nbgrader": {
     "checksum": "838347b898b9ffe5e0d14067cb4cb421",
     "grade": true,
     "grade_id": "pew-religion-i",
     "locked": true,
     "points": 2,
     "solution": false
    }
   },
   "outputs": [],
   "source": [
    "assert list(df.income.unique())==\\\n",
    "    ['$75-100k',\n",
    "     '$20-30k',\n",
    "     '$30-40k',\n",
    "     '<$10k',\n",
    "     '$50-75k',\n",
    "     '>150k',\n",
    "     '$40-50k',\n",
    "     'Unknown',\n",
    "     '$100-150k',\n",
    "     '$10-20k']"
   ]
  },
  {
   "cell_type": "markdown",
   "metadata": {},
   "source": [
    "Convert the `income` column to a category type:"
   ]
  },
  {
   "cell_type": "code",
   "execution_count": 116,
   "metadata": {
    "collapsed": true,
    "deletable": false,
    "nbgrader": {
     "checksum": "85c1b5ca570925cc7816d56b8d60c2f4",
     "grade": false,
     "grade_id": "pew-religion-j",
     "locked": false,
     "solution": true
    }
   },
   "outputs": [],
   "source": [
    "df['income'] = df['income'].astype('category')"
   ]
  },
  {
   "cell_type": "code",
   "execution_count": 117,
   "metadata": {
    "collapsed": false,
    "deletable": false,
    "nbgrader": {
     "checksum": "c1daff116da9833e92bc3d412dfb7281",
     "grade": true,
     "grade_id": "pew-religion-k",
     "locked": true,
     "points": 2,
     "solution": false
    }
   },
   "outputs": [],
   "source": [
    "assert df.income.dtype.name=='category'"
   ]
  },
  {
   "cell_type": "markdown",
   "metadata": {},
   "source": [
    "Mow make an approprately labeled `countplot` of the `income` column, ordered by the income level:"
   ]
  },
  {
   "cell_type": "code",
   "execution_count": 118,
   "metadata": {
    "collapsed": false,
    "deletable": false,
    "nbgrader": {
     "checksum": "9a61d7655e7296507b1ef4879de8d92c",
     "grade": true,
     "grade_id": "pew-religion-l",
     "locked": false,
     "points": 4,
     "solution": true
    },
    "scrolled": false
   },
   "outputs": [
    {
     "data": {
      "image/png": "[encoded data removed]",
      "text/plain": [
       "<matplotlib.figure.Figure at 0x7fc6bfcc8048>"
      ]
     },
     "metadata": {},
     "output_type": "display_data"
    }
   ],
   "source": [
    "sns.countplot(y=df['income'], order=['<$10k',\n",
    "                                     '>150k',\n",
    "                                     '$10-20k',\n",
    "                                     '$40-50k',\n",
    "                                     '$100-150k',\n",
    "                                     '$30-40k',\n",
    "                                     '$20-30k',\n",
    "                                     '$75-100k',\n",
    "                                     '$50-75k',\n",
    "                                     'Unknown']);"
   ]
  },
  {
   "cell_type": "markdown",
   "metadata": {},
   "source": [
    "## Simple Analysis"
   ]
  },
  {
   "cell_type": "markdown",
   "metadata": {},
   "source": [
    "Using a `groupby` and custom aggregation do the following:\n",
    "\n",
    "* Extract rows where the income is not `'Unknown'`\n",
    "* Compute the most commonly occuring income category for each religion (mode)\n",
    "* Sort the result by the mode income\n",
    "* Store the result in a single-column `DataFrame` with an index that is the religion and a column name of `mode_income`"
   ]
  },
  {
   "cell_type": "code",
   "execution_count": 233,
   "metadata": {
    "collapsed": false,
    "deletable": false,
    "nbgrader": {
     "checksum": "008399c4db4579dd716a76eb63d83a44",
     "grade": true,
     "grade_id": "pew-religion-m",
     "locked": false,
     "points": 2,
     "solution": true
    }
   },
   "outputs": [],
   "source": [
    "df = df[df.income != 'Unknown']\n",
    "gp = df.groupby('religion')\n",
    "gp_desc = gp.describe()"
   ]
  },
  {
   "cell_type": "code",
   "execution_count": 250,
   "metadata": {
    "collapsed": false
   },
   "outputs": [
    {
     "data": {
      "text/html": [
       "<div>\n",
       "<table border=\"1\" class=\"dataframe\">\n",
       "  <thead>\n",
       "    <tr style=\"text-align: right;\">\n",
       "      <th></th>\n",
       "      <th>mode_income</th>\n",
       "    </tr>\n",
       "    <tr>\n",
       "      <th>religion</th>\n",
       "      <th></th>\n",
       "    </tr>\n",
       "  </thead>\n",
       "  <tbody>\n",
       "    <tr>\n",
       "      <th>Agnostic</th>\n",
       "      <td>$50-75k</td>\n",
       "    </tr>\n",
       "    <tr>\n",
       "      <th>Atheist</th>\n",
       "      <td>&gt;150k</td>\n",
       "    </tr>\n",
       "    <tr>\n",
       "      <th>Buddhist</th>\n",
       "      <td>$75-100k</td>\n",
       "    </tr>\n",
       "    <tr>\n",
       "      <th>Catholic</th>\n",
       "      <td>$50-75k</td>\n",
       "    </tr>\n",
       "    <tr>\n",
       "      <th>Evangelical Prot</th>\n",
       "      <td>$50-75k</td>\n",
       "    </tr>\n",
       "    <tr>\n",
       "      <th>Hindu</th>\n",
       "      <td>&gt;150k</td>\n",
       "    </tr>\n",
       "    <tr>\n",
       "      <th>Historically Black Prot</th>\n",
       "      <td>$10-20k</td>\n",
       "    </tr>\n",
       "    <tr>\n",
       "      <th>Jehovah's Witness</th>\n",
       "      <td>$50-75k</td>\n",
       "    </tr>\n",
       "    <tr>\n",
       "      <th>Jewish</th>\n",
       "      <td>&gt;150k</td>\n",
       "    </tr>\n",
       "    <tr>\n",
       "      <th>Mainline Prot</th>\n",
       "      <td>$50-75k</td>\n",
       "    </tr>\n",
       "    <tr>\n",
       "      <th>Mormon</th>\n",
       "      <td>$50-75k</td>\n",
       "    </tr>\n",
       "    <tr>\n",
       "      <th>Muslim</th>\n",
       "      <td>$50-75k</td>\n",
       "    </tr>\n",
       "    <tr>\n",
       "      <th>Orthodox</th>\n",
       "      <td>$50-75k</td>\n",
       "    </tr>\n",
       "    <tr>\n",
       "      <th>Other Christian</th>\n",
       "      <td>$75-100k</td>\n",
       "    </tr>\n",
       "    <tr>\n",
       "      <th>Other Faiths</th>\n",
       "      <td>$50-75k</td>\n",
       "    </tr>\n",
       "    <tr>\n",
       "      <th>Other World Religions</th>\n",
       "      <td>$50-75k</td>\n",
       "    </tr>\n",
       "    <tr>\n",
       "      <th>Unaffiliated</th>\n",
       "      <td>$50-75k</td>\n",
       "    </tr>\n",
       "    <tr>\n",
       "      <th>Unknown</th>\n",
       "      <td>$50-75k</td>\n",
       "    </tr>\n",
       "  </tbody>\n",
       "</table>\n",
       "</div>"
      ],
      "text/plain": [
       "                        mode_income\n",
       "religion                           \n",
       "Agnostic                    $50-75k\n",
       "Atheist                       >150k\n",
       "Buddhist                   $75-100k\n",
       "Catholic                    $50-75k\n",
       "Evangelical Prot            $50-75k\n",
       "Hindu                         >150k\n",
       "Historically Black Prot     $10-20k\n",
       "Jehovah's Witness           $50-75k\n",
       "Jewish                        >150k\n",
       "Mainline Prot               $50-75k\n",
       "Mormon                      $50-75k\n",
       "Muslim                      $50-75k\n",
       "Orthodox                    $50-75k\n",
       "Other Christian            $75-100k\n",
       "Other Faiths                $50-75k\n",
       "Other World Religions       $50-75k\n",
       "Unaffiliated                $50-75k\n",
       "Unknown                     $50-75k"
      ]
     },
     "execution_count": 250,
     "metadata": {},
     "output_type": "execute_result"
    }
   ],
   "source": [
    "top_incomes = []\n",
    "religions = []\n",
    "\n",
    "for key, group in gp:\n",
    "    religions.append(key)\n",
    "    top_incomes.append(gp_desc['income'][key]['top'])\n",
    "\n",
    "df_income = pd.DataFrame([religions, top_incomes], index=['religion', 'mode_income']).T\n",
    "df_income.set_index('religion')"
   ]
  },
  {
   "cell_type": "code",
   "execution_count": null,
   "metadata": {
    "collapsed": true
   },
   "outputs": [],
   "source": []
  }
 ],
 "metadata": {
  "kernelspec": {
   "display_name": "Python 3",
   "language": "python",
   "name": "python3"
  },
  "language_info": {
   "codemirror_mode": {
    "name": "ipython",
    "version": 3
   },
   "file_extension": ".py",
   "mimetype": "text/x-python",
   "name": "python",
   "nbconvert_exporter": "python",
   "pygments_lexer": "ipython3",
   "version": "3.4.3"
  }
 },
 "nbformat": 4,
 "nbformat_minor": 0
}
