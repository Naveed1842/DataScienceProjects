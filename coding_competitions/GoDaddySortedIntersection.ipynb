{
 "cells": [
  {
   "cell_type": "code",
   "execution_count": 4,
   "metadata": {
    "collapsed": true
   },
   "outputs": [],
   "source": [
    "f = [7000, 7000, 12000, 13000, 6900]\n",
    "m = [6910, 7010, 7000, 12000, 18000, 15000, 10450]"
   ]
  },
  {
   "cell_type": "code",
   "execution_count": 11,
   "metadata": {
    "collapsed": true
   },
   "outputs": [],
   "source": [
    "def sortIntersect(f, m):\n",
    "    intersect = []\n",
    "    f_ndx = len(f) - 1\n",
    "    m_ndx = len(m) - 1\n",
    "    \n",
    "    #sort both arrays O(2nLog(n))\n",
    "    f.sort()\n",
    "    m.sort()\n",
    "    \n",
    "    # go through each array and find intersections\n",
    "    # O(N + M)\n",
    "    while f_ndx >= 0 and m_ndx >= 0:\n",
    "        f_item = f[f_ndx]\n",
    "        m_item = m[m_ndx]\n",
    "        \n",
    "        # no match, but f_item > m_item\n",
    "        if f_item > m_item:\n",
    "            f_ndx -= 1\n",
    "        # no match, but f_item < m_item\n",
    "        elif f_item < m_item:\n",
    "            m_ndx -= 1\n",
    "        # match!\n",
    "        else:\n",
    "            intersect.append(m_item)\n",
    "            m_ndx -= 1\n",
    "            f_ndx -= 1\n",
    "    \n",
    "    return intersect"
   ]
  },
  {
   "cell_type": "code",
   "execution_count": 12,
   "metadata": {
    "collapsed": false
   },
   "outputs": [
    {
     "data": {
      "text/plain": [
       "[12000, 7000]"
      ]
     },
     "execution_count": 12,
     "metadata": {},
     "output_type": "execute_result"
    }
   ],
   "source": [
    "sortIntersect(f, m)"
   ]
  },
  {
   "cell_type": "code",
   "execution_count": null,
   "metadata": {
    "collapsed": true
   },
   "outputs": [],
   "source": []
  }
 ],
 "metadata": {
  "kernelspec": {
   "display_name": "Python 3",
   "language": "python",
   "name": "python3"
  },
  "language_info": {
   "codemirror_mode": {
    "name": "ipython",
    "version": 3
   },
   "file_extension": ".py",
   "mimetype": "text/x-python",
   "name": "python",
   "nbconvert_exporter": "python",
   "pygments_lexer": "ipython3",
   "version": "3.4.3"
  }
 },
 "nbformat": 4,
 "nbformat_minor": 0
}
