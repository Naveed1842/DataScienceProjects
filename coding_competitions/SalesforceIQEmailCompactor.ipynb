{
 "cells": [
  {
   "cell_type": "code",
   "execution_count": 98,
   "metadata": {
    "collapsed": false
   },
   "outputs": [],
   "source": [
    "# Complete the function below.\n",
    "class Range():\n",
    "    def __init__(self, range):\n",
    "        ranges = range.split(\":\")\n",
    "        self.low_range = int(ranges[0])\n",
    "        self.high_range = int(ranges[1])\n",
    "        \n",
    "    def __lt__(self, other):\n",
    "        return self.low_range < other.low_range\n",
    "    \n",
    "    def __str__(self):\n",
    "        return str(self.low_range) + \":\" + str(self.high_range)\n",
    "\n",
    "def tokenize_ranges(ranges):\n",
    "    ranges = ranges.split(\",\")\n",
    "    range_objs = []\n",
    "    \n",
    "    for r in ranges:\n",
    "        range_obj = Range(r)\n",
    "        range_objs.append(range_obj)\n",
    "    \n",
    "    return range_objs\n",
    " \n",
    "def are_ranges_connected(range1, range2):\n",
    "    is_connected = False\n",
    "    \n",
    "    # checks that we have a potential connection match between ranges\n",
    "    if range2.high_range > range1.high_range:\n",
    "        # checks that the low2 is within 1 index of high1\n",
    "        if range1.high_range == range2.low_range - 1 or range1.high_range == range2.low_range:\n",
    "            is_connected = True\n",
    "        # checks that if low2 is not within 2 of high1 that low2 is less than high1\n",
    "        elif range2.low_range < range1.high_range:\n",
    "            is_connected = True\n",
    "    \n",
    "    return is_connected\n",
    "\n",
    "def is_range_inside(range1, range2):\n",
    "    return range2.high_range <= range1.high_range\n",
    "\n",
    "def compress_ranges(range_objs):\n",
    "    ndx1 = 0\n",
    "    ndx2 = ndx1 + 1\n",
    "    \n",
    "    #base case for if there is only one element in the list\n",
    "    if len(range_objs) < 2:\n",
    "        return range_objs\n",
    "    \n",
    "    while ndx2 < len(range_objs):\n",
    "        range1 = range_objs[ndx1]\n",
    "        range2 = range_objs[ndx2]\n",
    "        \n",
    "        if is_range_inside(range1, range2):\n",
    "            del range_objs[ndx2]\n",
    "        elif are_ranges_connected(range1, range2):\n",
    "            new_range_str = str(range1.low_range) + \":\" + str(range2.high_range)\n",
    "            range_objs[ndx1] = Range(new_range_str)\n",
    "            del range_objs[ndx2]\n",
    "        else:\n",
    "            ndx1 += 1\n",
    "            ndx2 += 1\n",
    "    \n",
    "    return range_objs\n",
    "    \n",
    "def is_invalid_range(ranges):\n",
    "    return ranges == '\"\"'\n",
    "    \n",
    "def compactAndSort(ranges):\n",
    "    if is_invalid_range(ranges):\n",
    "        return ranges\n",
    "    \n",
    "    ranges = tokenize_ranges(ranges)\n",
    "    ranges.sort()\n",
    "    final_ranges = compress_ranges(ranges)\n",
    "    \n",
    "    return final_ranges"
   ]
  },
  {
   "cell_type": "code",
   "execution_count": 101,
   "metadata": {
    "collapsed": false
   },
   "outputs": [
    {
     "name": "stdout",
     "output_type": "stream",
     "text": [
      "[<__main__.Range object at 0x7f4a54ebe908>, <__main__.Range object at 0x7f4a54ebe668>]\n",
      "1325376000000:1338508800000\n",
      "1343779200000:1417392000000\n"
     ]
    }
   ],
   "source": [
    "with open(\"input009.txt\") as f:\n",
    "    ranges = compactAndSort(f.read())\n",
    "    \n",
    "    \n",
    "    if ranges != '\"\"':\n",
    "        for r in ranges"
   ]
  },
  {
   "cell_type": "code",
   "execution_count": null,
   "metadata": {
    "collapsed": true
   },
   "outputs": [],
   "source": []
  }
 ],
 "metadata": {
  "kernelspec": {
   "display_name": "Python 3",
   "language": "python",
   "name": "python3"
  },
  "language_info": {
   "codemirror_mode": {
    "name": "ipython",
    "version": 3
   },
   "file_extension": ".py",
   "mimetype": "text/x-python",
   "name": "python",
   "nbconvert_exporter": "python",
   "pygments_lexer": "ipython3",
   "version": "3.4.3"
  }
 },
 "nbformat": 4,
 "nbformat_minor": 0
}
