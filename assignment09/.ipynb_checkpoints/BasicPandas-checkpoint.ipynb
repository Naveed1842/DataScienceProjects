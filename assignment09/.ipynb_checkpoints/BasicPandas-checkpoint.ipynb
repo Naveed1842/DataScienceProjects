{
 "cells": [
  {
   "cell_type": "markdown",
   "metadata": {
    "nbgrader": {}
   },
   "source": [
    "# Basic Pandas Homework"
   ]
  },
  {
   "cell_type": "code",
   "execution_count": 1,
   "metadata": {
    "collapsed": false,
    "nbgrader": {}
   },
   "outputs": [],
   "source": [
    "import pandas as pd\n",
    "import numpy as np\n",
    "import matplotlib.pyplot as plt\n",
    "%matplotlib inline"
   ]
  },
  {
   "cell_type": "markdown",
   "metadata": {
    "nbgrader": {}
   },
   "source": [
    "## DatFrame and Series"
   ]
  },
  {
   "cell_type": "markdown",
   "metadata": {
    "nbgrader": {}
   },
   "source": [
    "Create a `DataFrame` named `df1` with the following properties:\n",
    "\n",
    "* 10 rows.\n",
    "* An `age` column with random ages between 0 and 100 (inclusive).\n",
    "* A `cell_phone` column of randomly sampled categorical values `ios`, `android`, `windows`.\n",
    "* A `gender` column of randomly sampled categorical values `f` and `m`.\n",
    "* The order of columns should be `gender`, `age`, `cell_phone`.\n",
    "* A row index consisting of lowercase alphabetical letters.\n",
    "\n",
    "Use the function defined above to create this `DataFrame`."
   ]
  },
  {
   "cell_type": "code",
   "execution_count": 2,
   "metadata": {
    "collapsed": false,
    "deletable": false,
    "nbgrader": {
     "checksum": "874a325d28b3f9a50e43e044197b70ec",
     "grade_id": "basic-pandas-a",
     "solution": true
    }
   },
   "outputs": [],
   "source": [
    "rows = 10\n",
    "d = {\n",
    "    \"gender\": np.random.choice(['m', 'f'], 10),\n",
    "    \"age\": np.random.random_integers(0, 100, 10),\n",
    "    \"cell_phone\": np.random.choice(['ios', 'android', 'windows'], 10)\n",
    "}\n",
    "\n",
    "df1 = pd.DataFrame(d, index=list(map(chr, range(97, 107))), columns=['gender', 'age', 'cell_phone'])\n",
    "df1['cell_phone'] = df1['cell_phone'].astype('category')\n",
    "df1['gender'] = df1['gender'].astype('category')"
   ]
  },
  {
   "cell_type": "code",
   "execution_count": 3,
   "metadata": {
    "collapsed": false,
    "nbgrader": {}
   },
   "outputs": [
    {
     "data": {
      "text/html": [
       "<div>\n",
       "<table border=\"1\" class=\"dataframe\">\n",
       "  <thead>\n",
       "    <tr style=\"text-align: right;\">\n",
       "      <th></th>\n",
       "      <th>gender</th>\n",
       "      <th>age</th>\n",
       "      <th>cell_phone</th>\n",
       "    </tr>\n",
       "  </thead>\n",
       "  <tbody>\n",
       "    <tr>\n",
       "      <th>a</th>\n",
       "      <td>m</td>\n",
       "      <td>18</td>\n",
       "      <td>android</td>\n",
       "    </tr>\n",
       "    <tr>\n",
       "      <th>b</th>\n",
       "      <td>m</td>\n",
       "      <td>32</td>\n",
       "      <td>windows</td>\n",
       "    </tr>\n",
       "    <tr>\n",
       "      <th>c</th>\n",
       "      <td>m</td>\n",
       "      <td>61</td>\n",
       "      <td>ios</td>\n",
       "    </tr>\n",
       "    <tr>\n",
       "      <th>d</th>\n",
       "      <td>f</td>\n",
       "      <td>83</td>\n",
       "      <td>android</td>\n",
       "    </tr>\n",
       "    <tr>\n",
       "      <th>e</th>\n",
       "      <td>m</td>\n",
       "      <td>45</td>\n",
       "      <td>windows</td>\n",
       "    </tr>\n",
       "    <tr>\n",
       "      <th>f</th>\n",
       "      <td>m</td>\n",
       "      <td>56</td>\n",
       "      <td>ios</td>\n",
       "    </tr>\n",
       "    <tr>\n",
       "      <th>g</th>\n",
       "      <td>f</td>\n",
       "      <td>35</td>\n",
       "      <td>windows</td>\n",
       "    </tr>\n",
       "    <tr>\n",
       "      <th>h</th>\n",
       "      <td>m</td>\n",
       "      <td>68</td>\n",
       "      <td>ios</td>\n",
       "    </tr>\n",
       "    <tr>\n",
       "      <th>i</th>\n",
       "      <td>m</td>\n",
       "      <td>32</td>\n",
       "      <td>ios</td>\n",
       "    </tr>\n",
       "    <tr>\n",
       "      <th>j</th>\n",
       "      <td>f</td>\n",
       "      <td>4</td>\n",
       "      <td>windows</td>\n",
       "    </tr>\n",
       "  </tbody>\n",
       "</table>\n",
       "</div>"
      ],
      "text/plain": [
       "  gender  age cell_phone\n",
       "a      m   18    android\n",
       "b      m   32    windows\n",
       "c      m   61        ios\n",
       "d      f   83    android\n",
       "e      m   45    windows\n",
       "f      m   56        ios\n",
       "g      f   35    windows\n",
       "h      m   68        ios\n",
       "i      m   32        ios\n",
       "j      f    4    windows"
      ]
     },
     "execution_count": 3,
     "metadata": {},
     "output_type": "execute_result"
    }
   ],
   "source": [
    "df1"
   ]
  },
  {
   "cell_type": "markdown",
   "metadata": {
    "nbgrader": {}
   },
   "source": [
    "Make sure your code passes the following `assert` statements:"
   ]
  },
  {
   "cell_type": "code",
   "execution_count": 4,
   "metadata": {
    "collapsed": false,
    "deletable": false,
    "nbgrader": {
     "checksum": "6672a354e9a487f35b21677b5da497e0",
     "grade": true,
     "grade_id": "basic-pandas-b",
     "grader_id": "df1",
     "points": 3
    }
   },
   "outputs": [],
   "source": [
    "assert 'a' in df1.index\n",
    "assert 'j' in df1.index\n",
    "assert 'age' in df1.columns\n",
    "assert 'cell_phone' in df1.columns\n",
    "assert 'gender' in df1.columns\n",
    "assert df1.age.dtype.name=='int64'\n",
    "assert df1.cell_phone.dtype.name=='category'\n",
    "assert df1.gender.dtype.name=='category'\n",
    "assert list(df1.columns)==['gender','age','cell_phone']"
   ]
  },
  {
   "cell_type": "markdown",
   "metadata": {
    "nbgrader": {}
   },
   "source": [
    "Create a new `DataFrame`, named `df2` with the following transformations:\n",
    "\n",
    "* Extract rows `a` through `g`\n",
    "* Extract the `age` and `gender` column, but put `age` first.\n",
    "* Reverse the rows to they run `g` to `a`.\n",
    "* Add a new column named `income` that is a random list of dollars between [0,10000]\n",
    "* Add a new column named `expenses` that is a random list of dollars between [0,10000]\n",
    "* Create a new column named `profit` that is computed using the `income` and `expenses` columns."
   ]
  },
  {
   "cell_type": "code",
   "execution_count": 5,
   "metadata": {
    "collapsed": false,
    "deletable": false,
    "nbgrader": {
     "checksum": "c9d3d4f2c7399ff4caeb02a74dc9cfcd",
     "grade": false,
     "grade_id": "basic-pandas-c",
     "solution": true
    }
   },
   "outputs": [],
   "source": [
    "df2 = df1[:]['a':'g'].iloc[::-1]\n",
    "df2 = df2[['age', 'gender']]\n",
    "df2['income'] = np.random.random_integers(0, 10000, 7)\n",
    "df2['expenses'] = np.random.random_integers(0, 10000, 7)\n",
    "df2['profit'] = df2['income'] - df2['expenses']"
   ]
  },
  {
   "cell_type": "code",
   "execution_count": 6,
   "metadata": {
    "collapsed": false
   },
   "outputs": [
    {
     "data": {
      "text/html": [
       "<div>\n",
       "<table border=\"1\" class=\"dataframe\">\n",
       "  <thead>\n",
       "    <tr style=\"text-align: right;\">\n",
       "      <th></th>\n",
       "      <th>age</th>\n",
       "      <th>gender</th>\n",
       "      <th>income</th>\n",
       "      <th>expenses</th>\n",
       "      <th>profit</th>\n",
       "    </tr>\n",
       "  </thead>\n",
       "  <tbody>\n",
       "    <tr>\n",
       "      <th>g</th>\n",
       "      <td>35</td>\n",
       "      <td>f</td>\n",
       "      <td>3908</td>\n",
       "      <td>5198</td>\n",
       "      <td>-1290</td>\n",
       "    </tr>\n",
       "    <tr>\n",
       "      <th>f</th>\n",
       "      <td>56</td>\n",
       "      <td>m</td>\n",
       "      <td>7925</td>\n",
       "      <td>9473</td>\n",
       "      <td>-1548</td>\n",
       "    </tr>\n",
       "    <tr>\n",
       "      <th>e</th>\n",
       "      <td>45</td>\n",
       "      <td>m</td>\n",
       "      <td>5819</td>\n",
       "      <td>2743</td>\n",
       "      <td>3076</td>\n",
       "    </tr>\n",
       "    <tr>\n",
       "      <th>d</th>\n",
       "      <td>83</td>\n",
       "      <td>f</td>\n",
       "      <td>2399</td>\n",
       "      <td>572</td>\n",
       "      <td>1827</td>\n",
       "    </tr>\n",
       "    <tr>\n",
       "      <th>c</th>\n",
       "      <td>61</td>\n",
       "      <td>m</td>\n",
       "      <td>211</td>\n",
       "      <td>9262</td>\n",
       "      <td>-9051</td>\n",
       "    </tr>\n",
       "    <tr>\n",
       "      <th>b</th>\n",
       "      <td>32</td>\n",
       "      <td>m</td>\n",
       "      <td>4487</td>\n",
       "      <td>7100</td>\n",
       "      <td>-2613</td>\n",
       "    </tr>\n",
       "    <tr>\n",
       "      <th>a</th>\n",
       "      <td>18</td>\n",
       "      <td>m</td>\n",
       "      <td>9983</td>\n",
       "      <td>4687</td>\n",
       "      <td>5296</td>\n",
       "    </tr>\n",
       "  </tbody>\n",
       "</table>\n",
       "</div>"
      ],
      "text/plain": [
       "   age gender  income  expenses  profit\n",
       "g   35      f    3908      5198   -1290\n",
       "f   56      m    7925      9473   -1548\n",
       "e   45      m    5819      2743    3076\n",
       "d   83      f    2399       572    1827\n",
       "c   61      m     211      9262   -9051\n",
       "b   32      m    4487      7100   -2613\n",
       "a   18      m    9983      4687    5296"
      ]
     },
     "execution_count": 6,
     "metadata": {},
     "output_type": "execute_result"
    }
   ],
   "source": [
    "df2"
   ]
  },
  {
   "cell_type": "markdown",
   "metadata": {
    "nbgrader": {}
   },
   "source": [
    "Make sure your code passes the following `assert` statements:"
   ]
  },
  {
   "cell_type": "code",
   "execution_count": 7,
   "metadata": {
    "collapsed": false,
    "deletable": false,
    "nbgrader": {
     "checksum": "2c1b2029c60109ba8c731e034a8b5049",
     "grade": true,
     "grade_id": "basic-pandas-d",
     "grader_id": "df2",
     "points": 3
    }
   },
   "outputs": [],
   "source": [
    "assert df2.index[0]=='g'\n",
    "assert df2.index[-1]=='a'\n",
    "assert list(df2.columns)==['age','gender','income','expenses','profit']\n",
    "assert df2.income.dtype.name=='int64'\n",
    "assert df2.expenses.dtype.name=='int64'\n",
    "assert df2.expenses.dtype.name=='int64'\n",
    "assert all(df2.profit+df2.expenses-df2.income==0)"
   ]
  },
  {
   "cell_type": "markdown",
   "metadata": {
    "nbgrader": {}
   },
   "source": [
    "Write a function named `mean_and_std` that takes a `Series` object and returns a new `Series` that contains the mean and standard deviation of the original series."
   ]
  },
  {
   "cell_type": "code",
   "execution_count": 8,
   "metadata": {
    "collapsed": false,
    "deletable": false,
    "nbgrader": {
     "checksum": "12d85117d924b03c829d32fb3b46c740",
     "grade": false,
     "grade_id": "basic-pandas-e",
     "locked": false,
     "solution": true
    }
   },
   "outputs": [],
   "source": [
    "def mean_and_std(s):\n",
    "    \"\"\"Compute the mean and std of series s.\n",
    "    \n",
    "    Parameters\n",
    "    ----------\n",
    "    s : Series\n",
    "    \n",
    "    Returns\n",
    "    -------\n",
    "    Series containing the mean and std of s with an index of `mean` and `std`.\n",
    "    \"\"\"\n",
    "    return s.describe()[['mean', 'std']]"
   ]
  },
  {
   "cell_type": "markdown",
   "metadata": {
    "nbgrader": {}
   },
   "source": [
    "Make sure your code passes the following `assert` statements:"
   ]
  },
  {
   "cell_type": "code",
   "execution_count": 9,
   "metadata": {
    "collapsed": false,
    "deletable": false,
    "nbgrader": {
     "checksum": "3461c91ccd78d1b83aa8d545cab58a42",
     "grade": true,
     "grade_id": "basic-pandas-f",
     "grader_id": "mean_and_std",
     "points": 2
    }
   },
   "outputs": [],
   "source": [
    "assert list(mean_and_std(df2.age).index)==['mean','std']\n",
    "assert mean_and_std(df2.age)['mean']==df2.age.describe()['mean']\n",
    "assert mean_and_std(df2.age)['std']==df2.age.describe()['std']"
   ]
  },
  {
   "cell_type": "markdown",
   "metadata": {
    "nbgrader": {}
   },
   "source": [
    "Use the `.apply()` method with `mean_and_std` to compute the mean and standard deviation of only the columns `income`, `expenses` and profit. Save the result in a variable named `stats`."
   ]
  },
  {
   "cell_type": "code",
   "execution_count": 10,
   "metadata": {
    "collapsed": false,
    "deletable": false,
    "nbgrader": {
     "checksum": "b18f57258d13daddd8ab572792bc12bd",
     "grade_id": "basic-pandas-g",
     "solution": true
    }
   },
   "outputs": [],
   "source": [
    "stats = df2[['income', 'expenses', 'profit']].apply(mean_and_std)"
   ]
  },
  {
   "cell_type": "code",
   "execution_count": 11,
   "metadata": {
    "collapsed": false,
    "nbgrader": {}
   },
   "outputs": [
    {
     "data": {
      "text/html": [
       "<div>\n",
       "<table border=\"1\" class=\"dataframe\">\n",
       "  <thead>\n",
       "    <tr style=\"text-align: right;\">\n",
       "      <th></th>\n",
       "      <th>income</th>\n",
       "      <th>expenses</th>\n",
       "      <th>profit</th>\n",
       "    </tr>\n",
       "  </thead>\n",
       "  <tbody>\n",
       "    <tr>\n",
       "      <th>mean</th>\n",
       "      <td>4961.714286</td>\n",
       "      <td>5576.428571</td>\n",
       "      <td>-614.714286</td>\n",
       "    </tr>\n",
       "    <tr>\n",
       "      <th>std</th>\n",
       "      <td>3296.507481</td>\n",
       "      <td>3293.804531</td>\n",
       "      <td>4672.811064</td>\n",
       "    </tr>\n",
       "  </tbody>\n",
       "</table>\n",
       "</div>"
      ],
      "text/plain": [
       "           income     expenses       profit\n",
       "mean  4961.714286  5576.428571  -614.714286\n",
       "std   3296.507481  3293.804531  4672.811064"
      ]
     },
     "execution_count": 11,
     "metadata": {},
     "output_type": "execute_result"
    }
   ],
   "source": [
    "stats"
   ]
  },
  {
   "cell_type": "markdown",
   "metadata": {
    "nbgrader": {}
   },
   "source": [
    "Make sure your code passes the following `assert` statements:"
   ]
  },
  {
   "cell_type": "code",
   "execution_count": 12,
   "metadata": {
    "collapsed": false,
    "deletable": false,
    "nbgrader": {
     "checksum": "e94f72f1c277d5e42b22979dc7f0718b",
     "grade": true,
     "grade_id": "basic-pandas-h",
     "grader_id": "stats",
     "points": 2
    }
   },
   "outputs": [],
   "source": [
    "d = df2[['income','expenses','profit']].describe()\n",
    "assert 'income' in stats.columns\n",
    "assert 'expenses' in stats.columns\n",
    "assert 'profit' in stats.columns\n",
    "assert stats.ix['mean','income']==d.ix['mean','income']\n",
    "assert stats.ix['mean','expenses']==d.ix['mean','expenses']\n",
    "assert stats.ix['mean','profit']==d.ix['mean','profit']\n",
    "assert stats.ix['std','income']==d.ix['std','income']\n",
    "assert stats.ix['std','expenses']==d.ix['std','expenses']\n",
    "assert stats.ix['std','profit']==d.ix['std','profit']"
   ]
  }
 ],
 "metadata": {
  "kernelspec": {
   "display_name": "Python 3",
   "language": "python",
   "name": "python3"
  },
  "language_info": {
   "codemirror_mode": {
    "name": "ipython",
    "version": 3
   },
   "file_extension": ".py",
   "mimetype": "text/x-python",
   "name": "python",
   "nbconvert_exporter": "python",
   "pygments_lexer": "ipython3",
   "version": "3.4.3"
  }
 },
 "nbformat": 4,
 "nbformat_minor": 0
}
