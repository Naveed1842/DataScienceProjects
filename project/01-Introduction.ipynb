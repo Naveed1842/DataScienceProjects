{
 "cells": [
  {
   "cell_type": "markdown",
   "metadata": {},
   "source": [
    "# Introduction"
   ]
  },
  {
   "cell_type": "markdown",
   "metadata": {},
   "source": [
    "## Abstract\n",
    "The purpose of this data science project is to gain further knowledge in the field of Data Science and to help predict the outcomes of NCAA Division 1 basketball game matchups based on observed basketball game-by-game statistics.\n",
    "\n",
    "The phases involved in this project were:\n",
    "1. Finding data relevent to the problem area that was trying to be solved.\n",
    "2. Making sure this data was free of errors.\n",
    "3. Analyze the data to find interesting correlations between variables that were thought to be related and give rise to more questions regarding the data that should be answered.\n",
    "4. Perform modeling of the data in question and fit it to an appropriate machine learning algorithm to predict future outcomes given new sets of data.\n",
    "\n",
    "Analysis of the data involved looking at many factors such as:\n",
    "- Win Percentage (# games won / total # games played)\n",
    "- PPG (Average Points Per Game)\n",
    "- Percentage of Field Goals made\n",
    "- Percentage of Free Throws made\n",
    "- Percentage of 3-Pointers made\n",
    "- Average number of Offensive Rebounds per game\n",
    "- Average number of Defensive Rebounds per game\n",
    "- Average number of Assists per game\n",
    "- Average number of Turnovers per game\n",
    "- Average number of Steals per game\n",
    "- Average number of Blocks per game\n",
    "- Average number of Personal Fouls per game\n",
    "\n",
    "The correlation between these variables was analyzed and the model was created so that two teams could be analyzed in parallel in the machine learning model. In the case of this project Logistic Regression was used to combat against overfitting of the data as well as because of the categorical nature of the target variable we are predicting (whether a team wins a game or not).\n",
    "\n"
   ]
  },
  {
   "cell_type": "markdown",
   "metadata": {},
   "source": [
    "## Dataset\n",
    "The dataset used in this project was found on [Kaggle](https://www.kaggle.com). The data is used for the yearly March Madness Bracket Prediction competition and has 9 files associated with the dataset. Not all of the files were necessary for my project and I used only the following files:\n",
    "\n",
    "- 2016DetailedSeasonResults.csv\n",
    "- RegularSeasonDetailedResults.csv\n",
    "- TourneyDetailedResults.csv\n",
    "- Teams.csv\n",
    "\n",
    "The two files, ResulgarSeasonDetailedResults.csv and TourneyDetailedResults.csv, are the compilation of game-by-game data from the NCAA D1 seasons 2003-2015. The 2016DetailedSeasonResults.csv file contains game-by-game data for every D1 basketball game played this season. Each of these \"Detailed\" files contains the following basic information columns:\n",
    "- Season - Season year\n",
    "- Daynum - Date 0-132 of what day of the season the game was played\n",
    "- Wloc - Location of the winning team (Away, Home, Neutral Court)\n",
    "- Numot - Number of overtimes in the game\n",
    "\n",
    "The data of these files includes the following columns for both the winning team (prefixed with \"W\") and losing team (prefixed with a \"L\"):\n",
    "- team - The ID of the team\n",
    "- score - Team's score\n",
    "- fgm - Field goals made\n",
    "- fga - Field goals attempted\n",
    "- fgm3 - 3-Pointers made\n",
    "- fga3 - 3-Pointers attempted\n",
    "- ftm - Free throws made\n",
    "- fta - Free throws attempted\n",
    "- or - Offensive rebounds\n",
    "- dr - Defensive rebounds\n",
    "- ast - Assists\n",
    "- to - Turnovers\n",
    "- stl - Steals\n",
    "- blk - Blocks\n",
    "- pf - Personal fouls\n",
    "\n",
    "The last file I used is Teams.csv which includes the ID of each team as well as the Team Name for readability. These data files were joined in interesting ways and data columns were manipulated to try and extract more meaning out of the data."
   ]
  },
  {
   "cell_type": "markdown",
   "metadata": {},
   "source": [
    "## Table of Contents\n",
    "\n",
    "- 01-Introduction.ipynb\n",
    "    - This file includes all introduction material for this project including the abstract, table of contents, dataset information, and citations used in the project.\n",
    "- 02-DataCleaning.ipynb\n",
    "    - This file contains variable and pickle setup as well as any cleaning that needed to be done on the dataset.\n",
    "- 03-Exploration.ipynb\n",
    "    - This file contains statistical exploration of the data including analysis of initial questions as well as plots that aid in the exploration of these variables.\n",
    "- 04-Modeling.ipynb\n",
    "    - This file contains using train/test split to randomly split the data and re-merge the data together to create a model that can be used in our machine learning models. \n",
    "- 05-MachineLearning.ipynb\n",
    "    - This file contains functions for predicting team matchups and also has analysis of different machine learning models as necessary.\n",
    "- 06-Presentation.ipynb\n",
    "    - This file contains the presentation materials for showing off what I did during the project and my analysis of the data along with visual aids.\n",
    "- ncaa_helper.py\n",
    "    - This file was needed to be able to import python functions accross multiple Jupyter notebooks."
   ]
  },
  {
   "cell_type": "markdown",
   "metadata": {},
   "source": [
    "## Citations\n",
    "The following citations were used to gain further information about the statistical models and maching learning models used in this project:"
   ]
  }
 ],
 "metadata": {
  "kernelspec": {
   "display_name": "Python 3",
   "language": "python",
   "name": "python3"
  },
  "language_info": {
   "codemirror_mode": {
    "name": "ipython",
    "version": 3
   },
   "file_extension": ".py",
   "mimetype": "text/x-python",
   "name": "python",
   "nbconvert_exporter": "python",
   "pygments_lexer": "ipython3",
   "version": "3.4.3"
  }
 },
 "nbformat": 4,
 "nbformat_minor": 0
}
