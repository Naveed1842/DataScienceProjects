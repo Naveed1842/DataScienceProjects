{
 "cells": [
  {
   "cell_type": "code",
   "execution_count": 5,
   "metadata": {
    "collapsed": true
   },
   "outputs": [],
   "source": [
    "import pandas as pd\n",
    "%matplotlib inline\n",
    "import matplotlib.pyplot as plt\n",
    "import seaborn as sns\n",
    "from ipywidgets import interact, fixed"
   ]
  },
  {
   "cell_type": "code",
   "execution_count": 6,
   "metadata": {
    "collapsed": true
   },
   "outputs": [],
   "source": [
    "seasons_data = pd.read_pickle(\"calculated_season_data\")"
   ]
  },
  {
   "cell_type": "markdown",
   "metadata": {},
   "source": [
    "# Model The Game Data Using The Seasonal Data\n",
    "Now that we have calculated the season data for each team in a given year we need to alter the game data to fit our model. In our case we would like to input "
   ]
  },
  {
   "cell_type": "code",
   "execution_count": 31,
   "metadata": {
    "collapsed": true
   },
   "outputs": [],
   "source": [
    "from sklearn.feature_selection import VarianceThreshold\n",
    "from sklearn import linear_model"
   ]
  },
  {
   "cell_type": "code",
   "execution_count": 35,
   "metadata": {
    "collapsed": false
   },
   "outputs": [
    {
     "name": "stdout",
     "output_type": "stream",
     "text": [
      "[ 0.00071499]\n",
      "[ True  True  True  True  True  True  True  True  True  True  True]\n",
      "Calculated Variances of each column in fitted data\n",
      "Points_Per_Game: 33.2524255782\n",
      "Percent_FG_Made: 0.000714989989221\n",
      "Percent_FT_Made: 0.00148978665347\n",
      "Percent_3s_Made: 0.000865417687408\n",
      "OR_Per_Game: 20.3510843463\n",
      "DR_Per_Game: 75.7463338345\n",
      "Assists_Per_Game: 3.50182950127\n",
      "TO_Per_Game: 3.58558051407\n",
      "Steals_Per_Game: 7.32975846186\n",
      "Blocks_Per_Game: 1.29858228994\n",
      "Fouls_Per_Game: 3.40060691665\n"
     ]
    }
   ],
   "source": [
    "feature_columns = [\"Points_Per_Game\", \"Percent_FG_Made\", \"Percent_FT_Made\", \n",
    "                    \"Percent_3s_Made\", \"OR_Per_Game\", \"DR_Per_Game\", \n",
    "                    \"Assists_Per_Game\", \"TO_Per_Game\", \"Steals_Per_Game\", \n",
    "                    \"Blocks_Per_Game\", \"Fouls_Per_Game\"]\n",
    "\n",
    "target_column = \"Win_Percentage\"\n",
    "\n",
    "# clf = linear_model.Lasso(alpha=0.1)\n",
    "# clf.fit(seasons_data[feature_columns], seasons_data[target_column])\n",
    "# clf.\n",
    "selector = VarianceThreshold()\n",
    "selector.fit_transform(seasons_data[[\"Percent_FG_Made\"]], seasons_data[target_column])\n",
    "print(selector.variances_)\n",
    "\n",
    "data = selector.fit_transform(seasons_data[feature_columns], seasons_data[target_column])\n",
    "print(selector.get_support())\n",
    "variances = selector.variances_\n",
    "\n",
    "print(\"Calculated Variances of each column in fitted data\")\n",
    "col_ndx = 0\n",
    "for variance in variances:\n",
    "    print(feature_columns[col_ndx] + \": \" + str(variance))\n",
    "    col_ndx += 1\n",
    "\n",
    "\n",
    "# clf = LinearRegression()\n",
    "# clf.fit(seasons_data[feature_columns], seasons_data[target_column])\n",
    "# clf."
   ]
  },
  {
   "cell_type": "markdown",
   "metadata": {},
   "source": [
    "### Removing Features\n",
    "Based on the above variance data it is clear that certain pieces of data have more variance among the teams than other pieces of data.\n",
    "\n",
    "What I found very surprising is that the following data was not as important as I would have thought:\n",
    "- Percentage Field Goals Made\n",
    "- Percentage Free Throws Made\n",
    "- Percentage 3-Pointers Made"
   ]
  },
  {
   "cell_type": "markdown",
   "metadata": {},
   "source": [
    "# Removing The Least Significant Features\n",
    "In this section we will eliminate the features of our data that do not vary significantly among the teams."
   ]
  },
  {
   "cell_type": "code",
   "execution_count": 26,
   "metadata": {
    "collapsed": false
   },
   "outputs": [
    {
     "data": {
      "text/plain": [
       "array([ True,  True,  True,  True,  True,  True,  True,  True,  True,\n",
       "        True,  True], dtype=bool)"
      ]
     },
     "execution_count": 26,
     "metadata": {},
     "output_type": "execute_result"
    }
   ],
   "source": [
    "selector.get_support()"
   ]
  },
  {
   "cell_type": "code",
   "execution_count": null,
   "metadata": {
    "collapsed": true
   },
   "outputs": [],
   "source": []
  }
 ],
 "metadata": {
  "kernelspec": {
   "display_name": "Python 3",
   "language": "python",
   "name": "python3"
  },
  "language_info": {
   "codemirror_mode": {
    "name": "ipython",
    "version": 3
   },
   "file_extension": ".py",
   "mimetype": "text/x-python",
   "name": "python",
   "nbconvert_exporter": "python",
   "pygments_lexer": "ipython3",
   "version": "3.4.3"
  }
 },
 "nbformat": 4,
 "nbformat_minor": 0
}
