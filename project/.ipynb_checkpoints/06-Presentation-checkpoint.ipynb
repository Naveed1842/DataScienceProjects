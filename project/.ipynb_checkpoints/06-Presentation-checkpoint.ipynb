{
 "cells": [
  {
   "cell_type": "markdown",
   "metadata": {},
   "source": [
    "# Data Delirium"
   ]
  },
  {
   "cell_type": "markdown",
   "metadata": {},
   "source": [
    "## Overview\n",
    "\n",
    "'Tis the season to get lost in madness, **March Madness**, that is. Madness is in the air and everyone is frantically trying to find the cutting edge tools to try and get an edge on their friend's brackets. I know I am.\n",
    "\n",
    "Instead of spending time and money trying to find a tool to do this for me I spent a lot of time making one myself!"
   ]
  },
  {
   "cell_type": "markdown",
   "metadata": {},
   "source": [
    "## The Data"
   ]
  },
  {
   "cell_type": "markdown",
   "metadata": {},
   "source": [
    "The data I decided to use for this project is from the March Madness Bracket Prediction Competition on [Kaggle](https://www.kaggle.com). The data itself was very easy to manage and was compiled into separate CSV files."
   ]
  },
  {
   "cell_type": "markdown",
   "metadata": {},
   "source": [
    "### Data Organization\n",
    "The data for NCAA Division 1 basketball is set up simply so that someone such as myself can analyze important aspects of the data without being bogged down by computational overhead in cleaning and organization.\n",
    "\n",
    "The data is made up of 4 Comma-Separated files:\n",
    "- 2016DetailedSeasonResults.csv\n",
    "- RegularSeasonDetailedResults.csv\n",
    "- TourneyDetailedResults.csv\n",
    "- Teams.csv\n",
    "\n",
    "**2016DetailedSeasonResults.csv** contains the data associated with each D1 game played in the 2016 season.\n",
    "\n",
    "**RegularSeasonDetailedResults.csv** contains the data associated with each D1 game played in the seasons from 2003-2015.\n",
    "\n",
    "**TourneyDetailedResults.csv** contains the data associated with each tournament game played in seasons 2003-2015.\n",
    "\n",
    "**Teams.csv** contains the Team_Id of each team as well as the Team_Name"
   ]
  },
  {
   "cell_type": "markdown",
   "metadata": {},
   "source": [
    "I decided to use this data mostly because some very nice human being decided to spend their time scraping the web and compiling a database of team data and game data for every NCAA Division 1 season since 2003 so I didn't have to."
   ]
  },
  {
   "cell_type": "markdown",
   "metadata": {
    "collapsed": false
   },
   "source": [
    "## Analysis Of Teams"
   ]
  },
  {
   "cell_type": "markdown",
   "metadata": {},
   "source": [
    "## Predicting Team Succes"
   ]
  },
  {
   "cell_type": "markdown",
   "metadata": {},
   "source": [
    "## Predicting Matchups"
   ]
  },
  {
   "cell_type": "code",
   "execution_count": null,
   "metadata": {
    "collapsed": true
   },
   "outputs": [],
   "source": []
  }
 ],
 "metadata": {
  "kernelspec": {
   "display_name": "Python 3",
   "language": "python",
   "name": "python3"
  },
  "language_info": {
   "codemirror_mode": {
    "name": "ipython",
    "version": 3
   },
   "file_extension": ".py",
   "mimetype": "text/x-python",
   "name": "python",
   "nbconvert_exporter": "python",
   "pygments_lexer": "ipython3",
   "version": "3.4.3"
  }
 },
 "nbformat": 4,
 "nbformat_minor": 0
}
