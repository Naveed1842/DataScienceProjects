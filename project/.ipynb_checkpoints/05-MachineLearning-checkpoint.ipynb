{
 "cells": [
  {
   "cell_type": "code",
   "execution_count": 1,
   "metadata": {
    "collapsed": false
   },
   "outputs": [],
   "source": [
    "import pandas as pd\n",
    "import numpy as np\n",
    "%matplotlib inline\n",
    "import matplotlib.pyplot as plt\n",
    "import seaborn as sns\n",
    "from ipywidgets import interact, fixed"
   ]
  },
  {
   "cell_type": "markdown",
   "metadata": {},
   "source": [
    "# Create The Model For Our Algorithm\n",
    "To be able to calculate teams I would like to be able to input \"Team1\", \"Team2\" into the algorithm and have the algorithm spit out the probability that each team will win the game.\n",
    "\n",
    "To do this we must set up The game data so that the supervised machine learning algorithm we use can be trained using game data rather than seasonal data."
   ]
  },
  {
   "cell_type": "code",
   "execution_count": 97,
   "metadata": {
    "collapsed": true
   },
   "outputs": [],
   "source": [
    "season_data = pd.read_pickle(\"calculated_season_data\")\n",
    "game_data = pd.read_pickle(\"regular_season_detailed_results\")\n",
    "tourney_games = pd.read_pickle(\"tourney_detailed_results\")"
   ]
  },
  {
   "cell_type": "code",
   "execution_count": 110,
   "metadata": {
    "collapsed": false,
    "scrolled": true
   },
   "outputs": [
    {
     "data": {
      "text/html": [
       "<div>\n",
       "<table border=\"1\" class=\"dataframe\">\n",
       "  <thead>\n",
       "    <tr style=\"text-align: right;\">\n",
       "      <th></th>\n",
       "      <th>Team_Name</th>\n",
       "      <th>Season</th>\n",
       "      <th>Win_Percentage</th>\n",
       "      <th>Points_Per_Game</th>\n",
       "      <th>Percent_FG_Made</th>\n",
       "      <th>Percent_FT_Made</th>\n",
       "      <th>Percent_3s_Made</th>\n",
       "      <th>OR_Per_Game</th>\n",
       "      <th>DR_Per_Game</th>\n",
       "      <th>Assists_Per_Game</th>\n",
       "      <th>TO_Per_Game</th>\n",
       "      <th>Steals_Per_Game</th>\n",
       "      <th>Blocks_Per_Game</th>\n",
       "      <th>Fouls_Per_Game</th>\n",
       "    </tr>\n",
       "    <tr>\n",
       "      <th>Team_Id</th>\n",
       "      <th></th>\n",
       "      <th></th>\n",
       "      <th></th>\n",
       "      <th></th>\n",
       "      <th></th>\n",
       "      <th></th>\n",
       "      <th></th>\n",
       "      <th></th>\n",
       "      <th></th>\n",
       "      <th></th>\n",
       "      <th></th>\n",
       "      <th></th>\n",
       "      <th></th>\n",
       "      <th></th>\n",
       "    </tr>\n",
       "  </thead>\n",
       "  <tbody>\n",
       "    <tr>\n",
       "      <th>1102</th>\n",
       "      <td>Air Force</td>\n",
       "      <td>2003</td>\n",
       "      <td>0.428571</td>\n",
       "      <td>57.25</td>\n",
       "      <td>0.481149</td>\n",
       "      <td>0.651357</td>\n",
       "      <td>0.375643</td>\n",
       "      <td>6.17857</td>\n",
       "      <td>16</td>\n",
       "      <td>13</td>\n",
       "      <td>11.4286</td>\n",
       "      <td>5.67857</td>\n",
       "      <td>1.78571</td>\n",
       "      <td>18.75</td>\n",
       "    </tr>\n",
       "    <tr>\n",
       "      <th>1103</th>\n",
       "      <td>Akron</td>\n",
       "      <td>2003</td>\n",
       "      <td>0.481481</td>\n",
       "      <td>78.7778</td>\n",
       "      <td>0.486074</td>\n",
       "      <td>0.73639</td>\n",
       "      <td>0.33871</td>\n",
       "      <td>10.963</td>\n",
       "      <td>20</td>\n",
       "      <td>15.2222</td>\n",
       "      <td>12.6296</td>\n",
       "      <td>6.62963</td>\n",
       "      <td>2.33333</td>\n",
       "      <td>19.8519</td>\n",
       "    </tr>\n",
       "    <tr>\n",
       "      <th>1104</th>\n",
       "      <td>Alabama</td>\n",
       "      <td>2003</td>\n",
       "      <td>0.607143</td>\n",
       "      <td>69.2857</td>\n",
       "      <td>0.420362</td>\n",
       "      <td>0.709898</td>\n",
       "      <td>0.320144</td>\n",
       "      <td>15.0357</td>\n",
       "      <td>29.9286</td>\n",
       "      <td>12.1071</td>\n",
       "      <td>13.2857</td>\n",
       "      <td>7.53571</td>\n",
       "      <td>3.78571</td>\n",
       "      <td>18.0357</td>\n",
       "    </tr>\n",
       "    <tr>\n",
       "      <th>1105</th>\n",
       "      <td>Alabama A&amp;M</td>\n",
       "      <td>2003</td>\n",
       "      <td>0.269231</td>\n",
       "      <td>71.7692</td>\n",
       "      <td>0.395755</td>\n",
       "      <td>0.705986</td>\n",
       "      <td>0.364815</td>\n",
       "      <td>7.46154</td>\n",
       "      <td>13.3077</td>\n",
       "      <td>14.5385</td>\n",
       "      <td>18.6538</td>\n",
       "      <td>4.96154</td>\n",
       "      <td>2.07692</td>\n",
       "      <td>20.2308</td>\n",
       "    </tr>\n",
       "    <tr>\n",
       "      <th>1106</th>\n",
       "      <td>Alabama St</td>\n",
       "      <td>2003</td>\n",
       "      <td>0.464286</td>\n",
       "      <td>63.6071</td>\n",
       "      <td>0.423773</td>\n",
       "      <td>0.646421</td>\n",
       "      <td>0.346154</td>\n",
       "      <td>11.25</td>\n",
       "      <td>22.1071</td>\n",
       "      <td>11.6786</td>\n",
       "      <td>17.0357</td>\n",
       "      <td>8.39286</td>\n",
       "      <td>3.14286</td>\n",
       "      <td>18.1786</td>\n",
       "    </tr>\n",
       "  </tbody>\n",
       "</table>\n",
       "</div>"
      ],
      "text/plain": [
       "           Team_Name Season Win_Percentage Points_Per_Game Percent_FG_Made  \\\n",
       "Team_Id                                                                      \n",
       "1102       Air Force   2003       0.428571           57.25        0.481149   \n",
       "1103           Akron   2003       0.481481         78.7778        0.486074   \n",
       "1104         Alabama   2003       0.607143         69.2857        0.420362   \n",
       "1105     Alabama A&M   2003       0.269231         71.7692        0.395755   \n",
       "1106      Alabama St   2003       0.464286         63.6071        0.423773   \n",
       "\n",
       "        Percent_FT_Made Percent_3s_Made OR_Per_Game DR_Per_Game  \\\n",
       "Team_Id                                                           \n",
       "1102           0.651357        0.375643     6.17857          16   \n",
       "1103            0.73639         0.33871      10.963          20   \n",
       "1104           0.709898        0.320144     15.0357     29.9286   \n",
       "1105           0.705986        0.364815     7.46154     13.3077   \n",
       "1106           0.646421        0.346154       11.25     22.1071   \n",
       "\n",
       "        Assists_Per_Game TO_Per_Game Steals_Per_Game Blocks_Per_Game  \\\n",
       "Team_Id                                                                \n",
       "1102                  13     11.4286         5.67857         1.78571   \n",
       "1103             15.2222     12.6296         6.62963         2.33333   \n",
       "1104             12.1071     13.2857         7.53571         3.78571   \n",
       "1105             14.5385     18.6538         4.96154         2.07692   \n",
       "1106             11.6786     17.0357         8.39286         3.14286   \n",
       "\n",
       "        Fouls_Per_Game  \n",
       "Team_Id                 \n",
       "1102             18.75  \n",
       "1103           19.8519  \n",
       "1104           18.0357  \n",
       "1105           20.2308  \n",
       "1106           18.1786  "
      ]
     },
     "execution_count": 110,
     "metadata": {},
     "output_type": "execute_result"
    }
   ],
   "source": [
    "season_data.head()"
   ]
  },
  {
   "cell_type": "code",
   "execution_count": 112,
   "metadata": {
    "collapsed": false,
    "scrolled": false
   },
   "outputs": [
    {
     "data": {
      "text/html": [
       "<div>\n",
       "<table border=\"1\" class=\"dataframe\">\n",
       "  <thead>\n",
       "    <tr style=\"text-align: right;\">\n",
       "      <th></th>\n",
       "      <th>Season</th>\n",
       "      <th>Daynum</th>\n",
       "      <th>Wteam</th>\n",
       "      <th>Wscore</th>\n",
       "      <th>Lteam</th>\n",
       "      <th>Lscore</th>\n",
       "      <th>Wloc</th>\n",
       "      <th>Numot</th>\n",
       "      <th>Wfgm</th>\n",
       "      <th>Wfga</th>\n",
       "      <th>...</th>\n",
       "      <th>Lfga3</th>\n",
       "      <th>Lftm</th>\n",
       "      <th>Lfta</th>\n",
       "      <th>Lor</th>\n",
       "      <th>Ldr</th>\n",
       "      <th>Last</th>\n",
       "      <th>Lto</th>\n",
       "      <th>Lstl</th>\n",
       "      <th>Lblk</th>\n",
       "      <th>Lpf</th>\n",
       "    </tr>\n",
       "  </thead>\n",
       "  <tbody>\n",
       "    <tr>\n",
       "      <th>0</th>\n",
       "      <td>2003</td>\n",
       "      <td>10</td>\n",
       "      <td>1104</td>\n",
       "      <td>68</td>\n",
       "      <td>1328</td>\n",
       "      <td>62</td>\n",
       "      <td>N</td>\n",
       "      <td>0</td>\n",
       "      <td>27</td>\n",
       "      <td>58</td>\n",
       "      <td>...</td>\n",
       "      <td>10</td>\n",
       "      <td>16</td>\n",
       "      <td>22</td>\n",
       "      <td>10</td>\n",
       "      <td>22</td>\n",
       "      <td>8</td>\n",
       "      <td>18</td>\n",
       "      <td>9</td>\n",
       "      <td>2</td>\n",
       "      <td>20</td>\n",
       "    </tr>\n",
       "    <tr>\n",
       "      <th>1</th>\n",
       "      <td>2003</td>\n",
       "      <td>10</td>\n",
       "      <td>1272</td>\n",
       "      <td>70</td>\n",
       "      <td>1393</td>\n",
       "      <td>63</td>\n",
       "      <td>N</td>\n",
       "      <td>0</td>\n",
       "      <td>26</td>\n",
       "      <td>62</td>\n",
       "      <td>...</td>\n",
       "      <td>24</td>\n",
       "      <td>9</td>\n",
       "      <td>20</td>\n",
       "      <td>20</td>\n",
       "      <td>25</td>\n",
       "      <td>7</td>\n",
       "      <td>12</td>\n",
       "      <td>8</td>\n",
       "      <td>6</td>\n",
       "      <td>16</td>\n",
       "    </tr>\n",
       "    <tr>\n",
       "      <th>2</th>\n",
       "      <td>2003</td>\n",
       "      <td>11</td>\n",
       "      <td>1266</td>\n",
       "      <td>73</td>\n",
       "      <td>1437</td>\n",
       "      <td>61</td>\n",
       "      <td>N</td>\n",
       "      <td>0</td>\n",
       "      <td>24</td>\n",
       "      <td>58</td>\n",
       "      <td>...</td>\n",
       "      <td>26</td>\n",
       "      <td>14</td>\n",
       "      <td>23</td>\n",
       "      <td>31</td>\n",
       "      <td>22</td>\n",
       "      <td>9</td>\n",
       "      <td>12</td>\n",
       "      <td>2</td>\n",
       "      <td>5</td>\n",
       "      <td>23</td>\n",
       "    </tr>\n",
       "    <tr>\n",
       "      <th>3</th>\n",
       "      <td>2003</td>\n",
       "      <td>11</td>\n",
       "      <td>1296</td>\n",
       "      <td>56</td>\n",
       "      <td>1457</td>\n",
       "      <td>50</td>\n",
       "      <td>N</td>\n",
       "      <td>0</td>\n",
       "      <td>18</td>\n",
       "      <td>38</td>\n",
       "      <td>...</td>\n",
       "      <td>22</td>\n",
       "      <td>8</td>\n",
       "      <td>15</td>\n",
       "      <td>17</td>\n",
       "      <td>20</td>\n",
       "      <td>9</td>\n",
       "      <td>19</td>\n",
       "      <td>4</td>\n",
       "      <td>3</td>\n",
       "      <td>23</td>\n",
       "    </tr>\n",
       "    <tr>\n",
       "      <th>4</th>\n",
       "      <td>2003</td>\n",
       "      <td>11</td>\n",
       "      <td>1400</td>\n",
       "      <td>77</td>\n",
       "      <td>1208</td>\n",
       "      <td>71</td>\n",
       "      <td>N</td>\n",
       "      <td>0</td>\n",
       "      <td>30</td>\n",
       "      <td>61</td>\n",
       "      <td>...</td>\n",
       "      <td>16</td>\n",
       "      <td>17</td>\n",
       "      <td>27</td>\n",
       "      <td>21</td>\n",
       "      <td>15</td>\n",
       "      <td>12</td>\n",
       "      <td>10</td>\n",
       "      <td>7</td>\n",
       "      <td>1</td>\n",
       "      <td>14</td>\n",
       "    </tr>\n",
       "  </tbody>\n",
       "</table>\n",
       "<p>5 rows × 34 columns</p>\n",
       "</div>"
      ],
      "text/plain": [
       "   Season  Daynum  Wteam  Wscore  Lteam  Lscore Wloc  Numot  Wfgm  Wfga ...   \\\n",
       "0    2003      10   1104      68   1328      62    N      0    27    58 ...    \n",
       "1    2003      10   1272      70   1393      63    N      0    26    62 ...    \n",
       "2    2003      11   1266      73   1437      61    N      0    24    58 ...    \n",
       "3    2003      11   1296      56   1457      50    N      0    18    38 ...    \n",
       "4    2003      11   1400      77   1208      71    N      0    30    61 ...    \n",
       "\n",
       "   Lfga3  Lftm  Lfta  Lor  Ldr  Last  Lto  Lstl  Lblk  Lpf  \n",
       "0     10    16    22   10   22     8   18     9     2   20  \n",
       "1     24     9    20   20   25     7   12     8     6   16  \n",
       "2     26    14    23   31   22     9   12     2     5   23  \n",
       "3     22     8    15   17   20     9   19     4     3   23  \n",
       "4     16    17    27   21   15    12   10     7     1   14  \n",
       "\n",
       "[5 rows x 34 columns]"
      ]
     },
     "execution_count": 112,
     "metadata": {},
     "output_type": "execute_result"
    }
   ],
   "source": [
    "game_data.head()"
   ]
  },
  {
   "cell_type": "code",
   "execution_count": 113,
   "metadata": {
    "collapsed": false
   },
   "outputs": [
    {
     "data": {
      "text/html": [
       "<div>\n",
       "<table border=\"1\" class=\"dataframe\">\n",
       "  <thead>\n",
       "    <tr style=\"text-align: right;\">\n",
       "      <th></th>\n",
       "      <th>Season</th>\n",
       "      <th>Daynum</th>\n",
       "      <th>Wteam</th>\n",
       "      <th>Wscore</th>\n",
       "      <th>Lteam</th>\n",
       "      <th>Lscore</th>\n",
       "      <th>Wloc</th>\n",
       "      <th>Numot</th>\n",
       "      <th>Wfgm</th>\n",
       "      <th>Wfga</th>\n",
       "      <th>...</th>\n",
       "      <th>Lfga3</th>\n",
       "      <th>Lftm</th>\n",
       "      <th>Lfta</th>\n",
       "      <th>Lor</th>\n",
       "      <th>Ldr</th>\n",
       "      <th>Last</th>\n",
       "      <th>Lto</th>\n",
       "      <th>Lstl</th>\n",
       "      <th>Lblk</th>\n",
       "      <th>Lpf</th>\n",
       "    </tr>\n",
       "  </thead>\n",
       "  <tbody>\n",
       "    <tr>\n",
       "      <th>0</th>\n",
       "      <td>2003</td>\n",
       "      <td>134</td>\n",
       "      <td>1421</td>\n",
       "      <td>92</td>\n",
       "      <td>1411</td>\n",
       "      <td>84</td>\n",
       "      <td>N</td>\n",
       "      <td>1</td>\n",
       "      <td>32</td>\n",
       "      <td>69</td>\n",
       "      <td>...</td>\n",
       "      <td>31</td>\n",
       "      <td>14</td>\n",
       "      <td>31</td>\n",
       "      <td>17</td>\n",
       "      <td>28</td>\n",
       "      <td>16</td>\n",
       "      <td>15</td>\n",
       "      <td>5</td>\n",
       "      <td>0</td>\n",
       "      <td>22</td>\n",
       "    </tr>\n",
       "    <tr>\n",
       "      <th>1</th>\n",
       "      <td>2003</td>\n",
       "      <td>136</td>\n",
       "      <td>1112</td>\n",
       "      <td>80</td>\n",
       "      <td>1436</td>\n",
       "      <td>51</td>\n",
       "      <td>N</td>\n",
       "      <td>0</td>\n",
       "      <td>31</td>\n",
       "      <td>66</td>\n",
       "      <td>...</td>\n",
       "      <td>16</td>\n",
       "      <td>7</td>\n",
       "      <td>7</td>\n",
       "      <td>8</td>\n",
       "      <td>26</td>\n",
       "      <td>12</td>\n",
       "      <td>17</td>\n",
       "      <td>10</td>\n",
       "      <td>3</td>\n",
       "      <td>15</td>\n",
       "    </tr>\n",
       "    <tr>\n",
       "      <th>2</th>\n",
       "      <td>2003</td>\n",
       "      <td>136</td>\n",
       "      <td>1113</td>\n",
       "      <td>84</td>\n",
       "      <td>1272</td>\n",
       "      <td>71</td>\n",
       "      <td>N</td>\n",
       "      <td>0</td>\n",
       "      <td>31</td>\n",
       "      <td>59</td>\n",
       "      <td>...</td>\n",
       "      <td>28</td>\n",
       "      <td>14</td>\n",
       "      <td>21</td>\n",
       "      <td>20</td>\n",
       "      <td>22</td>\n",
       "      <td>11</td>\n",
       "      <td>12</td>\n",
       "      <td>2</td>\n",
       "      <td>5</td>\n",
       "      <td>18</td>\n",
       "    </tr>\n",
       "    <tr>\n",
       "      <th>3</th>\n",
       "      <td>2003</td>\n",
       "      <td>136</td>\n",
       "      <td>1141</td>\n",
       "      <td>79</td>\n",
       "      <td>1166</td>\n",
       "      <td>73</td>\n",
       "      <td>N</td>\n",
       "      <td>0</td>\n",
       "      <td>29</td>\n",
       "      <td>53</td>\n",
       "      <td>...</td>\n",
       "      <td>17</td>\n",
       "      <td>12</td>\n",
       "      <td>17</td>\n",
       "      <td>14</td>\n",
       "      <td>17</td>\n",
       "      <td>20</td>\n",
       "      <td>21</td>\n",
       "      <td>6</td>\n",
       "      <td>6</td>\n",
       "      <td>21</td>\n",
       "    </tr>\n",
       "    <tr>\n",
       "      <th>4</th>\n",
       "      <td>2003</td>\n",
       "      <td>136</td>\n",
       "      <td>1143</td>\n",
       "      <td>76</td>\n",
       "      <td>1301</td>\n",
       "      <td>74</td>\n",
       "      <td>N</td>\n",
       "      <td>1</td>\n",
       "      <td>27</td>\n",
       "      <td>64</td>\n",
       "      <td>...</td>\n",
       "      <td>21</td>\n",
       "      <td>15</td>\n",
       "      <td>20</td>\n",
       "      <td>10</td>\n",
       "      <td>26</td>\n",
       "      <td>16</td>\n",
       "      <td>14</td>\n",
       "      <td>5</td>\n",
       "      <td>8</td>\n",
       "      <td>19</td>\n",
       "    </tr>\n",
       "  </tbody>\n",
       "</table>\n",
       "<p>5 rows × 34 columns</p>\n",
       "</div>"
      ],
      "text/plain": [
       "   Season  Daynum  Wteam  Wscore  Lteam  Lscore Wloc  Numot  Wfgm  Wfga ...   \\\n",
       "0    2003     134   1421      92   1411      84    N      1    32    69 ...    \n",
       "1    2003     136   1112      80   1436      51    N      0    31    66 ...    \n",
       "2    2003     136   1113      84   1272      71    N      0    31    59 ...    \n",
       "3    2003     136   1141      79   1166      73    N      0    29    53 ...    \n",
       "4    2003     136   1143      76   1301      74    N      1    27    64 ...    \n",
       "\n",
       "   Lfga3  Lftm  Lfta  Lor  Ldr  Last  Lto  Lstl  Lblk  Lpf  \n",
       "0     31    14    31   17   28    16   15     5     0   22  \n",
       "1     16     7     7    8   26    12   17    10     3   15  \n",
       "2     28    14    21   20   22    11   12     2     5   18  \n",
       "3     17    12    17   14   17    20   21     6     6   21  \n",
       "4     21    15    20   10   26    16   14     5     8   19  \n",
       "\n",
       "[5 rows x 34 columns]"
      ]
     },
     "execution_count": 113,
     "metadata": {},
     "output_type": "execute_result"
    }
   ],
   "source": [
    "tourney_games.head()"
   ]
  },
  {
   "cell_type": "markdown",
   "metadata": {},
   "source": [
    "# Reformat The Game Data\n",
    "In this section we will reformat the game data so that it is usable in our regression machine learning model."
   ]
  },
  {
   "cell_type": "code",
   "execution_count": 114,
   "metadata": {
    "collapsed": true
   },
   "outputs": [],
   "source": [
    "def convert_season_tourney_data(games, tourney):\n",
    "    game_data = convert_game_data(games).reset_index()\n",
    "    tourney_data = convert_game_data(tourney).reset_index()\n",
    "    \n",
    "    joined_data = game_data.append(tourney_data)\n",
    "    joined_data[\"index\"] = [i for i in range(len(joined_data))]\n",
    "    joined_data.set_index(\"index\", inplace=True)\n",
    "    \n",
    "    return joined_data"
   ]
  },
  {
   "cell_type": "code",
   "execution_count": 115,
   "metadata": {
    "collapsed": true
   },
   "outputs": [],
   "source": [
    "def convert_game_data(games):\n",
    "#     basic_cols = [\"Season\", \"Daynum\", \"Numot\"]\n",
    "    basic_cols = [\"Numot\"]\n",
    "    loc_col = \"Wloc\"\n",
    "    w_team_cols = get_team_columns(True)\n",
    "    l_team_cols = get_team_columns(False)\n",
    "    \n",
    "    #grab winning and losing data\n",
    "    w_team = games[w_team_cols]\n",
    "    l_team = games[l_team_cols]\n",
    "    l_team.columns = w_team.columns\n",
    "    \n",
    "    # concatenate data together\n",
    "    w_team_join = pd.concat([games[basic_cols], w_team], axis=1)\n",
    "    w_team_join = calc_fg_percents(w_team_join)\n",
    "    w_team_join[\"Win\"] = 1\n",
    "    l_team_join = pd.concat([games[basic_cols], l_team], axis=1)\n",
    "    l_team_join = calc_fg_percents(l_team_join)\n",
    "    l_team_join[\"Win\"] = 0\n",
    "    \n",
    "    #final append of data\n",
    "    joined_data = w_team_join.append(l_team_join)\n",
    "    joined_data[\"index\"] = [i for i in range(len(joined_data))]\n",
    "    joined_data.set_index(\"index\", inplace=True)\n",
    "    \n",
    "    return joined_data"
   ]
  },
  {
   "cell_type": "markdown",
   "metadata": {},
   "source": [
    "Gets the data associated with the columns for the winning team or losing team"
   ]
  },
  {
   "cell_type": "code",
   "execution_count": 116,
   "metadata": {
    "collapsed": false
   },
   "outputs": [],
   "source": [
    "def get_team_columns(is_winning_team=False):\n",
    "    team_cols = [\"team\", \"score\", \"fgm\", \"fga\", \"fgm3\", \"fga3\", \"ftm\", \"fta\", \"or\", \"dr\", \"ast\", \"to\", \"stl\", \"blk\", \"pf\"]\n",
    "    ret_cols = []\n",
    "    prefix = \"L\"\n",
    "    \n",
    "    if is_winning_team:\n",
    "        prefix = \"W\"\n",
    "    \n",
    "    for col in team_cols:\n",
    "        ret_cols.append(prefix + col)\n",
    "    \n",
    "    return ret_cols"
   ]
  },
  {
   "cell_type": "markdown",
   "metadata": {},
   "source": [
    "Calculates the percentages of columns for a game"
   ]
  },
  {
   "cell_type": "code",
   "execution_count": 117,
   "metadata": {
    "collapsed": true
   },
   "outputs": [],
   "source": [
    "def calc_fg_percents(joined_data):\n",
    "    joined_data = calc_fg(joined_data)\n",
    "    joined_data = calc_ft(joined_data)\n",
    "    joined_data = calc_3s(joined_data)\n",
    "    \n",
    "    return joined_data"
   ]
  },
  {
   "cell_type": "markdown",
   "metadata": {},
   "source": [
    "Calculates the percentage of field goals made during a game"
   ]
  },
  {
   "cell_type": "code",
   "execution_count": 118,
   "metadata": {
    "collapsed": true
   },
   "outputs": [],
   "source": [
    "def calc_fg(joined_data):\n",
    "    temp = joined_data.copy()\n",
    "    temp[\"Wfgp\"] = temp[\"Wfgm\"] / temp[\"Wfga\"]\n",
    "    temp.drop([\"Wfgm\", \"Wfga\"], axis=1, inplace=True)\n",
    "    temp.fillna(0, axis=1, inplace=True)\n",
    "    \n",
    "    return temp"
   ]
  },
  {
   "cell_type": "markdown",
   "metadata": {},
   "source": [
    "Calculates the percentage of free throws made in a game"
   ]
  },
  {
   "cell_type": "code",
   "execution_count": 119,
   "metadata": {
    "collapsed": true
   },
   "outputs": [],
   "source": [
    "def calc_ft(joined_data):\n",
    "    temp = joined_data.copy()\n",
    "    temp[\"Wftp\"] = temp[\"Wftm\"] / temp[\"Wfta\"]\n",
    "    temp.drop([\"Wftm\", \"Wfta\"], axis=1, inplace=True)\n",
    "    temp.fillna(0, axis=1, inplace=True)\n",
    "    \n",
    "    return temp"
   ]
  },
  {
   "cell_type": "markdown",
   "metadata": {},
   "source": [
    "Calculate the percentage of 3 pointers made during a game"
   ]
  },
  {
   "cell_type": "code",
   "execution_count": 120,
   "metadata": {
    "collapsed": false
   },
   "outputs": [],
   "source": [
    "def calc_3s(joined_data):\n",
    "    temp = joined_data.copy()\n",
    "    temp[\"Wfgp3\"] = temp[\"Wfgm3\"] / temp[\"Wfga3\"]\n",
    "    temp.drop([\"Wfgm3\", \"Wfga3\"], axis=1, inplace=True)\n",
    "    temp.fillna(0, axis=1, inplace=True)\n",
    "    \n",
    "    return temp"
   ]
  },
  {
   "cell_type": "code",
   "execution_count": 122,
   "metadata": {
    "collapsed": false
   },
   "outputs": [
    {
     "data": {
      "text/html": [
       "<div>\n",
       "<table border=\"1\" class=\"dataframe\">\n",
       "  <thead>\n",
       "    <tr style=\"text-align: right;\">\n",
       "      <th></th>\n",
       "      <th>Numot</th>\n",
       "      <th>Wteam</th>\n",
       "      <th>Wscore</th>\n",
       "      <th>Wor</th>\n",
       "      <th>Wdr</th>\n",
       "      <th>Wast</th>\n",
       "      <th>Wto</th>\n",
       "      <th>Wstl</th>\n",
       "      <th>Wblk</th>\n",
       "      <th>Wpf</th>\n",
       "      <th>Wfgp</th>\n",
       "      <th>Wftp</th>\n",
       "      <th>Wfgp3</th>\n",
       "      <th>Win</th>\n",
       "    </tr>\n",
       "    <tr>\n",
       "      <th>index</th>\n",
       "      <th></th>\n",
       "      <th></th>\n",
       "      <th></th>\n",
       "      <th></th>\n",
       "      <th></th>\n",
       "      <th></th>\n",
       "      <th></th>\n",
       "      <th></th>\n",
       "      <th></th>\n",
       "      <th></th>\n",
       "      <th></th>\n",
       "      <th></th>\n",
       "      <th></th>\n",
       "      <th></th>\n",
       "    </tr>\n",
       "  </thead>\n",
       "  <tbody>\n",
       "    <tr>\n",
       "      <th>0</th>\n",
       "      <td>0</td>\n",
       "      <td>1104</td>\n",
       "      <td>68</td>\n",
       "      <td>14</td>\n",
       "      <td>24</td>\n",
       "      <td>13</td>\n",
       "      <td>23</td>\n",
       "      <td>7</td>\n",
       "      <td>1</td>\n",
       "      <td>22</td>\n",
       "      <td>0.465517</td>\n",
       "      <td>0.611111</td>\n",
       "      <td>0.214286</td>\n",
       "      <td>1</td>\n",
       "    </tr>\n",
       "    <tr>\n",
       "      <th>1</th>\n",
       "      <td>0</td>\n",
       "      <td>1272</td>\n",
       "      <td>70</td>\n",
       "      <td>15</td>\n",
       "      <td>28</td>\n",
       "      <td>16</td>\n",
       "      <td>13</td>\n",
       "      <td>4</td>\n",
       "      <td>4</td>\n",
       "      <td>18</td>\n",
       "      <td>0.419355</td>\n",
       "      <td>0.526316</td>\n",
       "      <td>0.400000</td>\n",
       "      <td>1</td>\n",
       "    </tr>\n",
       "    <tr>\n",
       "      <th>2</th>\n",
       "      <td>0</td>\n",
       "      <td>1266</td>\n",
       "      <td>73</td>\n",
       "      <td>17</td>\n",
       "      <td>26</td>\n",
       "      <td>15</td>\n",
       "      <td>10</td>\n",
       "      <td>5</td>\n",
       "      <td>2</td>\n",
       "      <td>25</td>\n",
       "      <td>0.413793</td>\n",
       "      <td>0.586207</td>\n",
       "      <td>0.444444</td>\n",
       "      <td>1</td>\n",
       "    </tr>\n",
       "    <tr>\n",
       "      <th>3</th>\n",
       "      <td>0</td>\n",
       "      <td>1296</td>\n",
       "      <td>56</td>\n",
       "      <td>6</td>\n",
       "      <td>19</td>\n",
       "      <td>11</td>\n",
       "      <td>12</td>\n",
       "      <td>14</td>\n",
       "      <td>2</td>\n",
       "      <td>18</td>\n",
       "      <td>0.473684</td>\n",
       "      <td>0.548387</td>\n",
       "      <td>0.333333</td>\n",
       "      <td>1</td>\n",
       "    </tr>\n",
       "    <tr>\n",
       "      <th>4</th>\n",
       "      <td>0</td>\n",
       "      <td>1400</td>\n",
       "      <td>77</td>\n",
       "      <td>17</td>\n",
       "      <td>22</td>\n",
       "      <td>12</td>\n",
       "      <td>14</td>\n",
       "      <td>4</td>\n",
       "      <td>4</td>\n",
       "      <td>20</td>\n",
       "      <td>0.491803</td>\n",
       "      <td>0.846154</td>\n",
       "      <td>0.428571</td>\n",
       "      <td>1</td>\n",
       "    </tr>\n",
       "  </tbody>\n",
       "</table>\n",
       "</div>"
      ],
      "text/plain": [
       "       Numot  Wteam  Wscore  Wor  Wdr  Wast  Wto  Wstl  Wblk  Wpf      Wfgp  \\\n",
       "index                                                                         \n",
       "0          0   1104      68   14   24    13   23     7     1   22  0.465517   \n",
       "1          0   1272      70   15   28    16   13     4     4   18  0.419355   \n",
       "2          0   1266      73   17   26    15   10     5     2   25  0.413793   \n",
       "3          0   1296      56    6   19    11   12    14     2   18  0.473684   \n",
       "4          0   1400      77   17   22    12   14     4     4   20  0.491803   \n",
       "\n",
       "           Wftp     Wfgp3  Win  \n",
       "index                           \n",
       "0      0.611111  0.214286    1  \n",
       "1      0.526316  0.400000    1  \n",
       "2      0.586207  0.444444    1  \n",
       "3      0.548387  0.333333    1  \n",
       "4      0.846154  0.428571    1  "
      ]
     },
     "execution_count": 122,
     "metadata": {},
     "output_type": "execute_result"
    }
   ],
   "source": [
    "model = convert_season_tourney_data(game_data, tourney_games)\n",
    "\n",
    "# model.Wfgp = model.Wfgp.astype(\"float32\")\n",
    "# model.Wftp = model.Wftp.astype(\"float32\")\n",
    "# model.Wfgp3 = model.Wfgp3.astype(\"float32\")\n",
    "\n",
    "model.head()"
   ]
  },
  {
   "cell_type": "markdown",
   "metadata": {},
   "source": [
    "# Create The Train/Test Split\n",
    "In this section we create the train/test split in our data so that we can test the accuracy of different models and also compute the effectiveness of each feature(column) in our data."
   ]
  },
  {
   "cell_type": "code",
   "execution_count": 123,
   "metadata": {
    "collapsed": true
   },
   "outputs": [],
   "source": [
    "from sklearn import cross_validation"
   ]
  },
  {
   "cell_type": "code",
   "execution_count": 124,
   "metadata": {
    "collapsed": true
   },
   "outputs": [],
   "source": [
    "feature_columns = model.columns[0:len(model.columns) - 1]\n",
    "target_column = \"Win\"\n",
    "\n",
    "X = model[feature_columns]\n",
    "y = model[target_column]\n",
    "\n",
    "# Split data\n",
    "Xtrain, Xtest, ytrain, ytest = cross_validation.train_test_split(X, y)"
   ]
  },
  {
   "cell_type": "markdown",
   "metadata": {},
   "source": [
    "# Calculate Importances Of Features\n",
    "In this section we use the RandomForestClassifier to calculate the importance of features and remove the features that are not significant. This will reduce our chances of overfitting the data to our chosen model."
   ]
  },
  {
   "cell_type": "code",
   "execution_count": 125,
   "metadata": {
    "collapsed": true
   },
   "outputs": [],
   "source": [
    "from sklearn import ensemble"
   ]
  },
  {
   "cell_type": "code",
   "execution_count": 126,
   "metadata": {
    "collapsed": false
   },
   "outputs": [],
   "source": [
    "forest_class = ensemble.RandomForestClassifier()\n",
    "forest_class.fit(Xtrain, ytrain)\n",
    "forest_ytest = forest_class.predict(Xtest)"
   ]
  },
  {
   "cell_type": "markdown",
   "metadata": {},
   "source": [
    "Output the accuracy of the forest model of our training data."
   ]
  },
  {
   "cell_type": "code",
   "execution_count": 127,
   "metadata": {
    "collapsed": false,
    "scrolled": true
   },
   "outputs": [
    {
     "name": "stdout",
     "output_type": "stream",
     "text": [
      "0.989837926417\n"
     ]
    }
   ],
   "source": [
    "print(forest_class.score(Xtrain, ytrain))"
   ]
  },
  {
   "cell_type": "markdown",
   "metadata": {},
   "source": [
    "Here we output the importances of each column and analyze which columns are important and which are not."
   ]
  },
  {
   "cell_type": "code",
   "execution_count": 128,
   "metadata": {
    "collapsed": false,
    "scrolled": true
   },
   "outputs": [],
   "source": [
    "def get_importances(X, forest_class):\n",
    "    return pd.DataFrame(list(zip(X.columns, forest_class.feature_importances_))).sort_values(1, ascending=False)"
   ]
  },
  {
   "cell_type": "code",
   "execution_count": 129,
   "metadata": {
    "collapsed": false
   },
   "outputs": [
    {
     "data": {
      "text/html": [
       "<div>\n",
       "<table border=\"1\" class=\"dataframe\">\n",
       "  <thead>\n",
       "    <tr style=\"text-align: right;\">\n",
       "      <th></th>\n",
       "      <th>0</th>\n",
       "      <th>1</th>\n",
       "    </tr>\n",
       "  </thead>\n",
       "  <tbody>\n",
       "    <tr>\n",
       "      <th>2</th>\n",
       "      <td>Wscore</td>\n",
       "      <td>0.181342</td>\n",
       "    </tr>\n",
       "    <tr>\n",
       "      <th>10</th>\n",
       "      <td>Wfgp</td>\n",
       "      <td>0.145315</td>\n",
       "    </tr>\n",
       "    <tr>\n",
       "      <th>4</th>\n",
       "      <td>Wdr</td>\n",
       "      <td>0.133457</td>\n",
       "    </tr>\n",
       "    <tr>\n",
       "      <th>9</th>\n",
       "      <td>Wpf</td>\n",
       "      <td>0.100765</td>\n",
       "    </tr>\n",
       "    <tr>\n",
       "      <th>12</th>\n",
       "      <td>Wfgp3</td>\n",
       "      <td>0.066898</td>\n",
       "    </tr>\n",
       "    <tr>\n",
       "      <th>11</th>\n",
       "      <td>Wftp</td>\n",
       "      <td>0.062490</td>\n",
       "    </tr>\n",
       "    <tr>\n",
       "      <th>6</th>\n",
       "      <td>Wto</td>\n",
       "      <td>0.058485</td>\n",
       "    </tr>\n",
       "    <tr>\n",
       "      <th>7</th>\n",
       "      <td>Wstl</td>\n",
       "      <td>0.056579</td>\n",
       "    </tr>\n",
       "    <tr>\n",
       "      <th>1</th>\n",
       "      <td>Wteam</td>\n",
       "      <td>0.056362</td>\n",
       "    </tr>\n",
       "    <tr>\n",
       "      <th>5</th>\n",
       "      <td>Wast</td>\n",
       "      <td>0.048062</td>\n",
       "    </tr>\n",
       "    <tr>\n",
       "      <th>3</th>\n",
       "      <td>Wor</td>\n",
       "      <td>0.042782</td>\n",
       "    </tr>\n",
       "    <tr>\n",
       "      <th>8</th>\n",
       "      <td>Wblk</td>\n",
       "      <td>0.038665</td>\n",
       "    </tr>\n",
       "    <tr>\n",
       "      <th>0</th>\n",
       "      <td>Numot</td>\n",
       "      <td>0.008797</td>\n",
       "    </tr>\n",
       "  </tbody>\n",
       "</table>\n",
       "</div>"
      ],
      "text/plain": [
       "         0         1\n",
       "2   Wscore  0.181342\n",
       "10    Wfgp  0.145315\n",
       "4      Wdr  0.133457\n",
       "9      Wpf  0.100765\n",
       "12   Wfgp3  0.066898\n",
       "11    Wftp  0.062490\n",
       "6      Wto  0.058485\n",
       "7     Wstl  0.056579\n",
       "1    Wteam  0.056362\n",
       "5     Wast  0.048062\n",
       "3      Wor  0.042782\n",
       "8     Wblk  0.038665\n",
       "0    Numot  0.008797"
      ]
     },
     "execution_count": 129,
     "metadata": {},
     "output_type": "execute_result"
    }
   ],
   "source": [
    "importances = get_importances(X, forest_class)\n",
    "importances"
   ]
  },
  {
   "cell_type": "markdown",
   "metadata": {},
   "source": [
    "# Fit Our First Model\n",
    "In this section we try to fit the data to a model and analyze the accuracy of the fit. We will also make sure to remove the least important features from our data before fitting to a model."
   ]
  },
  {
   "cell_type": "code",
   "execution_count": 130,
   "metadata": {
    "collapsed": true
   },
   "outputs": [],
   "source": [
    "from sklearn import linear_model"
   ]
  },
  {
   "cell_type": "code",
   "execution_count": 131,
   "metadata": {
    "collapsed": false
   },
   "outputs": [],
   "source": [
    "logistic_class = linear_model.LogisticRegression(solver=\"newton-cg\")\n",
    "logistic_class.fit(Xtrain, ytrain)\n",
    "logistic_predict = logistic_class.predict(Xtest)"
   ]
  },
  {
   "cell_type": "markdown",
   "metadata": {},
   "source": [
    "Output the score of the logistic regression model."
   ]
  },
  {
   "cell_type": "code",
   "execution_count": 132,
   "metadata": {
    "collapsed": false,
    "scrolled": true
   },
   "outputs": [
    {
     "data": {
      "text/plain": [
       "0.8425359712230216"
      ]
     },
     "execution_count": 132,
     "metadata": {},
     "output_type": "execute_result"
    }
   ],
   "source": [
    "logistic_class.score(Xtest, ytest)"
   ]
  },
  {
   "cell_type": "markdown",
   "metadata": {},
   "source": [
    "# Remove Unnecessary Features\n",
    "In this section we will remove the unnecessary features that we analyzed above to make sure our model is accurate and we are not overfitting the data."
   ]
  },
  {
   "cell_type": "markdown",
   "metadata": {},
   "source": [
    "Calculate all columns with values higher than our threshold value of 0.05"
   ]
  },
  {
   "cell_type": "code",
   "execution_count": 133,
   "metadata": {
    "collapsed": false
   },
   "outputs": [],
   "source": [
    "threshold = 0.05\n",
    "# new_columns = list(importances[importances[1] > threshold][0])\n",
    "new_columns = list(importances[0:len(importances) - 4][0])"
   ]
  },
  {
   "cell_type": "markdown",
   "metadata": {},
   "source": [
    "Refit model with new columns and test the accuracy of our logistic model."
   ]
  },
  {
   "cell_type": "code",
   "execution_count": 134,
   "metadata": {
    "collapsed": false
   },
   "outputs": [],
   "source": [
    "X = model[new_columns]\n",
    "y = model[\"Win\"]\n",
    "\n",
    "Xtrain, Xtest, ytrain, ytest = cross_validation.train_test_split(X, y)"
   ]
  },
  {
   "cell_type": "code",
   "execution_count": 135,
   "metadata": {
    "collapsed": false
   },
   "outputs": [
    {
     "data": {
      "text/plain": [
       "0.83845923261390887"
      ]
     },
     "execution_count": 135,
     "metadata": {},
     "output_type": "execute_result"
    }
   ],
   "source": [
    "logistic_class = linear_model.LogisticRegression(solver=\"newton-cg\")\n",
    "logistic_class.fit(Xtrain, ytrain)\n",
    "logistic_predict = logistic_class.predict(Xtest)\n",
    "logistic_class.score(Xtest, ytest)"
   ]
  },
  {
   "cell_type": "markdown",
   "metadata": {},
   "source": [
    "# Analyze Column Importance Again"
   ]
  },
  {
   "cell_type": "code",
   "execution_count": 136,
   "metadata": {
    "collapsed": true
   },
   "outputs": [],
   "source": [
    "forest_class = ensemble.RandomForestClassifier()\n",
    "forest_class.fit(Xtrain, ytrain)\n",
    "forest_ytest = forest_class.predict(Xtest)"
   ]
  },
  {
   "cell_type": "code",
   "execution_count": 137,
   "metadata": {
    "collapsed": false,
    "scrolled": true
   },
   "outputs": [
    {
     "data": {
      "text/html": [
       "<div>\n",
       "<table border=\"1\" class=\"dataframe\">\n",
       "  <thead>\n",
       "    <tr style=\"text-align: right;\">\n",
       "      <th></th>\n",
       "      <th>0</th>\n",
       "      <th>1</th>\n",
       "    </tr>\n",
       "  </thead>\n",
       "  <tbody>\n",
       "    <tr>\n",
       "      <th>1</th>\n",
       "      <td>Wfgp</td>\n",
       "      <td>0.211818</td>\n",
       "    </tr>\n",
       "    <tr>\n",
       "      <th>0</th>\n",
       "      <td>Wscore</td>\n",
       "      <td>0.159544</td>\n",
       "    </tr>\n",
       "    <tr>\n",
       "      <th>2</th>\n",
       "      <td>Wdr</td>\n",
       "      <td>0.148017</td>\n",
       "    </tr>\n",
       "    <tr>\n",
       "      <th>3</th>\n",
       "      <td>Wpf</td>\n",
       "      <td>0.106977</td>\n",
       "    </tr>\n",
       "    <tr>\n",
       "      <th>4</th>\n",
       "      <td>Wfgp3</td>\n",
       "      <td>0.082025</td>\n",
       "    </tr>\n",
       "    <tr>\n",
       "      <th>5</th>\n",
       "      <td>Wftp</td>\n",
       "      <td>0.078375</td>\n",
       "    </tr>\n",
       "    <tr>\n",
       "      <th>8</th>\n",
       "      <td>Wteam</td>\n",
       "      <td>0.074566</td>\n",
       "    </tr>\n",
       "    <tr>\n",
       "      <th>6</th>\n",
       "      <td>Wto</td>\n",
       "      <td>0.071684</td>\n",
       "    </tr>\n",
       "    <tr>\n",
       "      <th>7</th>\n",
       "      <td>Wstl</td>\n",
       "      <td>0.066993</td>\n",
       "    </tr>\n",
       "  </tbody>\n",
       "</table>\n",
       "</div>"
      ],
      "text/plain": [
       "        0         1\n",
       "1    Wfgp  0.211818\n",
       "0  Wscore  0.159544\n",
       "2     Wdr  0.148017\n",
       "3     Wpf  0.106977\n",
       "4   Wfgp3  0.082025\n",
       "5    Wftp  0.078375\n",
       "8   Wteam  0.074566\n",
       "6     Wto  0.071684\n",
       "7    Wstl  0.066993"
      ]
     },
     "execution_count": 137,
     "metadata": {},
     "output_type": "execute_result"
    }
   ],
   "source": [
    "get_importances(X, forest_class)"
   ]
  },
  {
   "cell_type": "markdown",
   "metadata": {},
   "source": [
    "COULD POSSIBLY USE THIS LATER"
   ]
  },
  {
   "cell_type": "code",
   "execution_count": null,
   "metadata": {
    "collapsed": true
   },
   "outputs": [],
   "source": [
    "# def remove_game_data(season_data, game_data, isLeftTeam):\n",
    "#     column_prefix = \"\"\n",
    "    \n",
    "#     if isLeftTeam:\n",
    "#         column_prefix = \"L\"\n",
    "#     else:\n",
    "#         column_prefix = \"R\"\n",
    "     \n",
    "#     ret_data = season_data.reset_index()\n",
    "#     ret_data.drop([\"Season\", \"Team_Id\", \"Team_Name\"], inplace=True, axis=1)\n",
    "#     ret_data.rename(columns={\n",
    "# #             \"Team_Id\": column_prefix + \"team_Id\",\n",
    "# #             \"Team_Name\": column_prefix + \"team_Name\",\n",
    "#             \"Win_Percentage\": column_prefix + \"win_Percentage\",\n",
    "#             \"Points_Per_Game\": column_prefix + \"points_Per_Game\",\n",
    "#             \"Percent_FG_Made\": column_prefix + \"percent_FG_Made\",\n",
    "#             \"Percent_FT_Made\": column_prefix + \"percent_FT_Made\",\n",
    "#             \"Percent_3s_Made\": column_prefix + \"percent_3s_Made\",\n",
    "#             \"OR_Per_Game\": column_prefix + \"or_Per_Game\",\n",
    "#             \"DR_Per_Game\": column_prefix + \"dr_Per_Game\",\n",
    "#             \"Assists_Per_Game\": column_prefix + \"assists_Per_Game\",\n",
    "#             \"TO_Per_Game\": column_prefix + \"to_Per_Game\",\n",
    "#             \"Steals_Per_Game\": column_prefix + \"steals_per_game\",\n",
    "#             \"Blocks_Per_Game\": column_prefix + \"blocks_Per_Game\",\n",
    "#             \"Fouls_Per_Game\": column_prefix + \"fouls_Per_Game\"\n",
    "#         }, inplace=True)\n",
    "    \n",
    "#     return ret_data"
   ]
  },
  {
   "cell_type": "markdown",
   "metadata": {},
   "source": [
    "### Create The Actual Model\n",
    "This function will create the actual model that we will use to train our machine learning algorithm with."
   ]
  },
  {
   "cell_type": "code",
   "execution_count": null,
   "metadata": {
    "collapsed": false
   },
   "outputs": [],
   "source": [
    "def create_game_model(games, seasons):\n",
    "    model = pd.DataFrame()\n",
    "    \n",
    "    for i in range(1000):\n",
    "        if i % 1000 == 0:\n",
    "            print(i)\n",
    "            \n",
    "        game = games.loc[i]\n",
    "        w_team = get_team_data(game[\"Wteam\"], game[\"Season\"])\n",
    "        l_team = get_team_data(game[\"Lteam\"], game[\"Season\"])\n",
    "\n",
    "        # grab season data minus the game in question\n",
    "        season_l_team = remove_game_data(w_team, game, True)\n",
    "        season_r_team = remove_game_data(l_team, game, False)\n",
    "\n",
    "        joined_season_win = None\n",
    "        \n",
    "        if i % 2 == 0:\n",
    "            joined_season_win = pd.concat([season_l_team, season_r_team], axis=1)\n",
    "            joined_season_win[\"Win\"] = 1\n",
    "        else:\n",
    "            joined_season_win = pd.concat([season_r_team, season_l_team], axis=1)\n",
    "            joined_season_win[\"Win\"] = 0\n",
    "            joined_season_win.columns = model.columns\n",
    "            \n",
    "        joined_season_win[\"index\"] = i\n",
    "        joined_season_win.set_index(\"index\", inplace=True)\n",
    "    #     joined_season_lose = pd.concat([season_l_team, season_w_team], axis=1)\n",
    "    #     joined_season_lose[\"Win\"] = 0\n",
    "        model = model.append(joined_season_win)\n",
    "#         model = pd.concat([model, joined_season_win])\n",
    "    \n",
    "    return model"
   ]
  },
  {
   "cell_type": "code",
   "execution_count": null,
   "metadata": {
    "collapsed": false,
    "scrolled": true
   },
   "outputs": [],
   "source": [
    "#testing the function\n",
    "model = create_game_model(game_data, season_data)"
   ]
  },
  {
   "cell_type": "code",
   "execution_count": null,
   "metadata": {
    "collapsed": true
   },
   "outputs": [],
   "source": [
    "from sklearn import linear_model\n",
    "\n",
    "from sklearn import neural_network"
   ]
  },
  {
   "cell_type": "code",
   "execution_count": null,
   "metadata": {
    "collapsed": false
   },
   "outputs": [],
   "source": [
    "feature_columns = model.columns[0:len(model.columns) - 1]\n",
    "target_column = \"Win\"\n",
    "\n",
    "X = model[feature_columns]\n",
    "y = model[target_column]\n",
    "\n",
    "# Split data\n",
    "Xtrain, Xtest, ytrain, ytest = cross_validation.train_test_split(X, y)\n",
    "\n",
    "# clf = neural_network.BernoulliRBM()\n",
    "# clf.fit(Xtrain, ytrain)\n",
    "\n",
    "clf = linear_model.LogisticRegression()\n",
    "clf.fit(Xtrain, ytrain)\n",
    "clf.score(Xtest, ytest)\n",
    "clf.coef_"
   ]
  },
  {
   "cell_type": "code",
   "execution_count": null,
   "metadata": {
    "collapsed": false
   },
   "outputs": [],
   "source": [
    "y.mean()"
   ]
  },
  {
   "cell_type": "code",
   "execution_count": null,
   "metadata": {
    "collapsed": false,
    "scrolled": true
   },
   "outputs": [],
   "source": [
    "pd.DataFrame(list(zip(X.columns, np.transpose(clf.coef_))))"
   ]
  },
  {
   "cell_type": "code",
   "execution_count": null,
   "metadata": {
    "collapsed": true
   },
   "outputs": [],
   "source": []
  }
 ],
 "metadata": {
  "kernelspec": {
   "display_name": "Python 3",
   "language": "python",
   "name": "python3"
  },
  "language_info": {
   "codemirror_mode": {
    "name": "ipython",
    "version": 3
   },
   "file_extension": ".py",
   "mimetype": "text/x-python",
   "name": "python",
   "nbconvert_exporter": "python",
   "pygments_lexer": "ipython3",
   "version": "3.4.3"
  }
 },
 "nbformat": 4,
 "nbformat_minor": 0
}
