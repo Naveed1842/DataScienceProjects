{
 "cells": [
  {
   "cell_type": "code",
   "execution_count": 1,
   "metadata": {
    "collapsed": true
   },
   "outputs": [],
   "source": [
    "import pandas as pd\n",
    "%matplotlib inline\n",
    "import matplotlib.pyplot as plt\n",
    "import seaborn as sns\n",
    "from ipywidgets import interact, fixed"
   ]
  },
  {
   "cell_type": "markdown",
   "metadata": {},
   "source": [
    "# Exploration of Data\n",
    "In this section we will explore some fundamental questions about the data we are analyzing. These questions include explorations such as:\n",
    "1. What teams have won most of their games and which ones have lost most of their games?\n",
    "2. Do teams that win more often have higher numbers of field goal attempts?\n",
    "3. Do teams more often than not win Home games?"
   ]
  },
  {
   "cell_type": "markdown",
   "metadata": {},
   "source": [
    "The first thing we will do to set up exploration is to load the dataframes that we have cleaned from the previous section."
   ]
  },
  {
   "cell_type": "code",
   "execution_count": 2,
   "metadata": {
    "collapsed": true
   },
   "outputs": [],
   "source": [
    "teams = pd.read_pickle(\"teams\")\n",
    "teams[\"Team_Name\"] = teams.Team_Name.astype(\"category\")\n",
    "\n",
    "past_season_data = pd.read_pickle(\"past_season_detailed_results\")\n",
    "past_season_data_cols = [\"Season\", \"Daynum\", \"Wteam\", \"Wscore\", \"Lteam\", \"Lscore\", \"Wloc\", \"Numot\", \"Wfgm\", \"Wfga\", \n",
    "                         \"Wfgm3\", \"Wfga3\", \"Wftm\", \"Wfta\", \"Wor\", \"Wdr\", \"Wast\", \"Wto\", \"Wstl\", \"Wblk\", \"Wpf\", \"Lfgm\", \n",
    "                         \"Lfga\", \"Lfgm3\", \"Lfga3\", \"Lftm\", \"Lfta\", \"Lor\", \"Ldr\", \"Last\", \"Lto\", \"Lstl\", \"Lblk\", \"Lpf\"]\n",
    "\n",
    "past_tourney_data = pd.read_pickle(\"past_tourney_detailed_results\")\n",
    "past_tourney_data_cols = past_season_data_cols"
   ]
  },
  {
   "cell_type": "code",
   "execution_count": 3,
   "metadata": {
    "collapsed": false,
    "scrolled": true
   },
   "outputs": [
    {
     "data": {
      "text/html": [
       "<div>\n",
       "<table border=\"1\" class=\"dataframe\">\n",
       "  <thead>\n",
       "    <tr style=\"text-align: right;\">\n",
       "      <th></th>\n",
       "      <th>Team_Name</th>\n",
       "    </tr>\n",
       "    <tr>\n",
       "      <th>Team_Id</th>\n",
       "      <th></th>\n",
       "    </tr>\n",
       "  </thead>\n",
       "  <tbody>\n",
       "    <tr>\n",
       "      <th>1101</th>\n",
       "      <td>Abilene Chr</td>\n",
       "    </tr>\n",
       "    <tr>\n",
       "      <th>1102</th>\n",
       "      <td>Air Force</td>\n",
       "    </tr>\n",
       "    <tr>\n",
       "      <th>1103</th>\n",
       "      <td>Akron</td>\n",
       "    </tr>\n",
       "    <tr>\n",
       "      <th>1104</th>\n",
       "      <td>Alabama</td>\n",
       "    </tr>\n",
       "    <tr>\n",
       "      <th>1105</th>\n",
       "      <td>Alabama A&amp;M</td>\n",
       "    </tr>\n",
       "  </tbody>\n",
       "</table>\n",
       "</div>"
      ],
      "text/plain": [
       "           Team_Name\n",
       "Team_Id             \n",
       "1101     Abilene Chr\n",
       "1102       Air Force\n",
       "1103           Akron\n",
       "1104         Alabama\n",
       "1105     Alabama A&M"
      ]
     },
     "execution_count": 3,
     "metadata": {},
     "output_type": "execute_result"
    }
   ],
   "source": [
    "teams.head()"
   ]
  },
  {
   "cell_type": "code",
   "execution_count": 4,
   "metadata": {
    "collapsed": false
   },
   "outputs": [],
   "source": [
    "assert len(teams) == 364\n",
    "assert len(teams.columns) == 1\n",
    "assert teams.columns == [\"Team_Name\"]\n",
    "assert teams.index.name == \"Team_Id\"\n",
    "assert teams.Team_Name.dtype.name == \"category\""
   ]
  },
  {
   "cell_type": "code",
   "execution_count": 5,
   "metadata": {
    "collapsed": false,
    "scrolled": true
   },
   "outputs": [
    {
     "data": {
      "text/html": [
       "<div>\n",
       "<table border=\"1\" class=\"dataframe\">\n",
       "  <thead>\n",
       "    <tr style=\"text-align: right;\">\n",
       "      <th></th>\n",
       "      <th>Season</th>\n",
       "      <th>Daynum</th>\n",
       "      <th>Wteam</th>\n",
       "      <th>Wscore</th>\n",
       "      <th>Lteam</th>\n",
       "      <th>Lscore</th>\n",
       "      <th>Wloc</th>\n",
       "      <th>Numot</th>\n",
       "      <th>Wfgm</th>\n",
       "      <th>Wfga</th>\n",
       "      <th>...</th>\n",
       "      <th>Lfga3</th>\n",
       "      <th>Lftm</th>\n",
       "      <th>Lfta</th>\n",
       "      <th>Lor</th>\n",
       "      <th>Ldr</th>\n",
       "      <th>Last</th>\n",
       "      <th>Lto</th>\n",
       "      <th>Lstl</th>\n",
       "      <th>Lblk</th>\n",
       "      <th>Lpf</th>\n",
       "    </tr>\n",
       "  </thead>\n",
       "  <tbody>\n",
       "    <tr>\n",
       "      <th>0</th>\n",
       "      <td>2003</td>\n",
       "      <td>10</td>\n",
       "      <td>1104</td>\n",
       "      <td>68</td>\n",
       "      <td>1328</td>\n",
       "      <td>62</td>\n",
       "      <td>N</td>\n",
       "      <td>0</td>\n",
       "      <td>27</td>\n",
       "      <td>58</td>\n",
       "      <td>...</td>\n",
       "      <td>10</td>\n",
       "      <td>16</td>\n",
       "      <td>22</td>\n",
       "      <td>10</td>\n",
       "      <td>22</td>\n",
       "      <td>8</td>\n",
       "      <td>18</td>\n",
       "      <td>9</td>\n",
       "      <td>2</td>\n",
       "      <td>20</td>\n",
       "    </tr>\n",
       "    <tr>\n",
       "      <th>1</th>\n",
       "      <td>2003</td>\n",
       "      <td>10</td>\n",
       "      <td>1272</td>\n",
       "      <td>70</td>\n",
       "      <td>1393</td>\n",
       "      <td>63</td>\n",
       "      <td>N</td>\n",
       "      <td>0</td>\n",
       "      <td>26</td>\n",
       "      <td>62</td>\n",
       "      <td>...</td>\n",
       "      <td>24</td>\n",
       "      <td>9</td>\n",
       "      <td>20</td>\n",
       "      <td>20</td>\n",
       "      <td>25</td>\n",
       "      <td>7</td>\n",
       "      <td>12</td>\n",
       "      <td>8</td>\n",
       "      <td>6</td>\n",
       "      <td>16</td>\n",
       "    </tr>\n",
       "    <tr>\n",
       "      <th>2</th>\n",
       "      <td>2003</td>\n",
       "      <td>11</td>\n",
       "      <td>1266</td>\n",
       "      <td>73</td>\n",
       "      <td>1437</td>\n",
       "      <td>61</td>\n",
       "      <td>N</td>\n",
       "      <td>0</td>\n",
       "      <td>24</td>\n",
       "      <td>58</td>\n",
       "      <td>...</td>\n",
       "      <td>26</td>\n",
       "      <td>14</td>\n",
       "      <td>23</td>\n",
       "      <td>31</td>\n",
       "      <td>22</td>\n",
       "      <td>9</td>\n",
       "      <td>12</td>\n",
       "      <td>2</td>\n",
       "      <td>5</td>\n",
       "      <td>23</td>\n",
       "    </tr>\n",
       "    <tr>\n",
       "      <th>3</th>\n",
       "      <td>2003</td>\n",
       "      <td>11</td>\n",
       "      <td>1296</td>\n",
       "      <td>56</td>\n",
       "      <td>1457</td>\n",
       "      <td>50</td>\n",
       "      <td>N</td>\n",
       "      <td>0</td>\n",
       "      <td>18</td>\n",
       "      <td>38</td>\n",
       "      <td>...</td>\n",
       "      <td>22</td>\n",
       "      <td>8</td>\n",
       "      <td>15</td>\n",
       "      <td>17</td>\n",
       "      <td>20</td>\n",
       "      <td>9</td>\n",
       "      <td>19</td>\n",
       "      <td>4</td>\n",
       "      <td>3</td>\n",
       "      <td>23</td>\n",
       "    </tr>\n",
       "    <tr>\n",
       "      <th>4</th>\n",
       "      <td>2003</td>\n",
       "      <td>11</td>\n",
       "      <td>1400</td>\n",
       "      <td>77</td>\n",
       "      <td>1208</td>\n",
       "      <td>71</td>\n",
       "      <td>N</td>\n",
       "      <td>0</td>\n",
       "      <td>30</td>\n",
       "      <td>61</td>\n",
       "      <td>...</td>\n",
       "      <td>16</td>\n",
       "      <td>17</td>\n",
       "      <td>27</td>\n",
       "      <td>21</td>\n",
       "      <td>15</td>\n",
       "      <td>12</td>\n",
       "      <td>10</td>\n",
       "      <td>7</td>\n",
       "      <td>1</td>\n",
       "      <td>14</td>\n",
       "    </tr>\n",
       "  </tbody>\n",
       "</table>\n",
       "<p>5 rows × 34 columns</p>\n",
       "</div>"
      ],
      "text/plain": [
       "   Season  Daynum  Wteam  Wscore  Lteam  Lscore Wloc  Numot  Wfgm  Wfga ...   \\\n",
       "0    2003      10   1104      68   1328      62    N      0    27    58 ...    \n",
       "1    2003      10   1272      70   1393      63    N      0    26    62 ...    \n",
       "2    2003      11   1266      73   1437      61    N      0    24    58 ...    \n",
       "3    2003      11   1296      56   1457      50    N      0    18    38 ...    \n",
       "4    2003      11   1400      77   1208      71    N      0    30    61 ...    \n",
       "\n",
       "   Lfga3  Lftm  Lfta  Lor  Ldr  Last  Lto  Lstl  Lblk  Lpf  \n",
       "0     10    16    22   10   22     8   18     9     2   20  \n",
       "1     24     9    20   20   25     7   12     8     6   16  \n",
       "2     26    14    23   31   22     9   12     2     5   23  \n",
       "3     22     8    15   17   20     9   19     4     3   23  \n",
       "4     16    17    27   21   15    12   10     7     1   14  \n",
       "\n",
       "[5 rows x 34 columns]"
      ]
     },
     "execution_count": 5,
     "metadata": {},
     "output_type": "execute_result"
    }
   ],
   "source": [
    "past_season_data.head()"
   ]
  },
  {
   "cell_type": "code",
   "execution_count": 6,
   "metadata": {
    "collapsed": false
   },
   "outputs": [],
   "source": [
    "assert len(past_season_data) == 65872\n",
    "assert len(past_season_data.columns) == 34\n",
    "assert list(past_season_data.columns) == past_season_data_cols"
   ]
  },
  {
   "cell_type": "code",
   "execution_count": 7,
   "metadata": {
    "collapsed": false,
    "scrolled": true
   },
   "outputs": [
    {
     "data": {
      "text/html": [
       "<div>\n",
       "<table border=\"1\" class=\"dataframe\">\n",
       "  <thead>\n",
       "    <tr style=\"text-align: right;\">\n",
       "      <th></th>\n",
       "      <th>Season</th>\n",
       "      <th>Daynum</th>\n",
       "      <th>Wteam</th>\n",
       "      <th>Wscore</th>\n",
       "      <th>Lteam</th>\n",
       "      <th>Lscore</th>\n",
       "      <th>Wloc</th>\n",
       "      <th>Numot</th>\n",
       "      <th>Wfgm</th>\n",
       "      <th>Wfga</th>\n",
       "      <th>...</th>\n",
       "      <th>Lfga3</th>\n",
       "      <th>Lftm</th>\n",
       "      <th>Lfta</th>\n",
       "      <th>Lor</th>\n",
       "      <th>Ldr</th>\n",
       "      <th>Last</th>\n",
       "      <th>Lto</th>\n",
       "      <th>Lstl</th>\n",
       "      <th>Lblk</th>\n",
       "      <th>Lpf</th>\n",
       "    </tr>\n",
       "  </thead>\n",
       "  <tbody>\n",
       "    <tr>\n",
       "      <th>0</th>\n",
       "      <td>2003</td>\n",
       "      <td>134</td>\n",
       "      <td>1421</td>\n",
       "      <td>92</td>\n",
       "      <td>1411</td>\n",
       "      <td>84</td>\n",
       "      <td>N</td>\n",
       "      <td>1</td>\n",
       "      <td>32</td>\n",
       "      <td>69</td>\n",
       "      <td>...</td>\n",
       "      <td>31</td>\n",
       "      <td>14</td>\n",
       "      <td>31</td>\n",
       "      <td>17</td>\n",
       "      <td>28</td>\n",
       "      <td>16</td>\n",
       "      <td>15</td>\n",
       "      <td>5</td>\n",
       "      <td>0</td>\n",
       "      <td>22</td>\n",
       "    </tr>\n",
       "    <tr>\n",
       "      <th>1</th>\n",
       "      <td>2003</td>\n",
       "      <td>136</td>\n",
       "      <td>1112</td>\n",
       "      <td>80</td>\n",
       "      <td>1436</td>\n",
       "      <td>51</td>\n",
       "      <td>N</td>\n",
       "      <td>0</td>\n",
       "      <td>31</td>\n",
       "      <td>66</td>\n",
       "      <td>...</td>\n",
       "      <td>16</td>\n",
       "      <td>7</td>\n",
       "      <td>7</td>\n",
       "      <td>8</td>\n",
       "      <td>26</td>\n",
       "      <td>12</td>\n",
       "      <td>17</td>\n",
       "      <td>10</td>\n",
       "      <td>3</td>\n",
       "      <td>15</td>\n",
       "    </tr>\n",
       "    <tr>\n",
       "      <th>2</th>\n",
       "      <td>2003</td>\n",
       "      <td>136</td>\n",
       "      <td>1113</td>\n",
       "      <td>84</td>\n",
       "      <td>1272</td>\n",
       "      <td>71</td>\n",
       "      <td>N</td>\n",
       "      <td>0</td>\n",
       "      <td>31</td>\n",
       "      <td>59</td>\n",
       "      <td>...</td>\n",
       "      <td>28</td>\n",
       "      <td>14</td>\n",
       "      <td>21</td>\n",
       "      <td>20</td>\n",
       "      <td>22</td>\n",
       "      <td>11</td>\n",
       "      <td>12</td>\n",
       "      <td>2</td>\n",
       "      <td>5</td>\n",
       "      <td>18</td>\n",
       "    </tr>\n",
       "    <tr>\n",
       "      <th>3</th>\n",
       "      <td>2003</td>\n",
       "      <td>136</td>\n",
       "      <td>1141</td>\n",
       "      <td>79</td>\n",
       "      <td>1166</td>\n",
       "      <td>73</td>\n",
       "      <td>N</td>\n",
       "      <td>0</td>\n",
       "      <td>29</td>\n",
       "      <td>53</td>\n",
       "      <td>...</td>\n",
       "      <td>17</td>\n",
       "      <td>12</td>\n",
       "      <td>17</td>\n",
       "      <td>14</td>\n",
       "      <td>17</td>\n",
       "      <td>20</td>\n",
       "      <td>21</td>\n",
       "      <td>6</td>\n",
       "      <td>6</td>\n",
       "      <td>21</td>\n",
       "    </tr>\n",
       "    <tr>\n",
       "      <th>4</th>\n",
       "      <td>2003</td>\n",
       "      <td>136</td>\n",
       "      <td>1143</td>\n",
       "      <td>76</td>\n",
       "      <td>1301</td>\n",
       "      <td>74</td>\n",
       "      <td>N</td>\n",
       "      <td>1</td>\n",
       "      <td>27</td>\n",
       "      <td>64</td>\n",
       "      <td>...</td>\n",
       "      <td>21</td>\n",
       "      <td>15</td>\n",
       "      <td>20</td>\n",
       "      <td>10</td>\n",
       "      <td>26</td>\n",
       "      <td>16</td>\n",
       "      <td>14</td>\n",
       "      <td>5</td>\n",
       "      <td>8</td>\n",
       "      <td>19</td>\n",
       "    </tr>\n",
       "  </tbody>\n",
       "</table>\n",
       "<p>5 rows × 34 columns</p>\n",
       "</div>"
      ],
      "text/plain": [
       "   Season  Daynum  Wteam  Wscore  Lteam  Lscore Wloc  Numot  Wfgm  Wfga ...   \\\n",
       "0    2003     134   1421      92   1411      84    N      1    32    69 ...    \n",
       "1    2003     136   1112      80   1436      51    N      0    31    66 ...    \n",
       "2    2003     136   1113      84   1272      71    N      0    31    59 ...    \n",
       "3    2003     136   1141      79   1166      73    N      0    29    53 ...    \n",
       "4    2003     136   1143      76   1301      74    N      1    27    64 ...    \n",
       "\n",
       "   Lfga3  Lftm  Lfta  Lor  Ldr  Last  Lto  Lstl  Lblk  Lpf  \n",
       "0     31    14    31   17   28    16   15     5     0   22  \n",
       "1     16     7     7    8   26    12   17    10     3   15  \n",
       "2     28    14    21   20   22    11   12     2     5   18  \n",
       "3     17    12    17   14   17    20   21     6     6   21  \n",
       "4     21    15    20   10   26    16   14     5     8   19  \n",
       "\n",
       "[5 rows x 34 columns]"
      ]
     },
     "execution_count": 7,
     "metadata": {},
     "output_type": "execute_result"
    }
   ],
   "source": [
    "past_tourney_data.head()"
   ]
  },
  {
   "cell_type": "code",
   "execution_count": 8,
   "metadata": {
    "collapsed": true
   },
   "outputs": [],
   "source": [
    "assert len(past_tourney_data) == 847\n",
    "assert len(past_tourney_data.columns) == 34\n",
    "assert list(past_tourney_data.columns) == past_tourney_data_cols"
   ]
  },
  {
   "cell_type": "markdown",
   "metadata": {},
   "source": [
    "## 1. Win Percentage of Total Games Played\n",
    "In this section we wil examine our first question - Of all the games a team has played, do they win a majority of their games?"
   ]
  },
  {
   "cell_type": "markdown",
   "metadata": {},
   "source": [
    "Here we join the game data from past regular seasons and past tournaments together to create one giant dataset."
   ]
  },
  {
   "cell_type": "code",
   "execution_count": 9,
   "metadata": {
    "collapsed": false
   },
   "outputs": [],
   "source": [
    "joined_game_data = pd.concat([past_season_data, past_tourney_data])\n",
    "joined_game_data[\"Game_Id\"] = [i for i in range(len(joined_game_data))]\n",
    "joined_game_data.set_index(\"Game_Id\", inplace=True)"
   ]
  },
  {
   "cell_type": "code",
   "execution_count": 10,
   "metadata": {
    "collapsed": false
   },
   "outputs": [],
   "source": [
    "assert len(joined_game_data) == 66719\n",
    "assert joined_game_data.index.name == \"Game_Id\"\n",
    "assert list(joined_game_data.columns) == past_season_data_cols"
   ]
  },
  {
   "cell_type": "markdown",
   "metadata": {},
   "source": [
    "The next thing we do is store the games won by a team in a DataFrame and store the games lost by a team in another DataFrame."
   ]
  },
  {
   "cell_type": "code",
   "execution_count": 11,
   "metadata": {
    "collapsed": false
   },
   "outputs": [],
   "source": [
    "won_games = joined_game_data.groupby(\"Wteam\")\n",
    "lost_games = joined_game_data.groupby(\"Lteam\")\n",
    "total_games = won_games.count() + lost_games.count()"
   ]
  },
  {
   "cell_type": "code",
   "execution_count": 12,
   "metadata": {
    "collapsed": false
   },
   "outputs": [],
   "source": [
    "assert len(won_games) == len(lost_games) == len(total_games) == 355"
   ]
  },
  {
   "cell_type": "markdown",
   "metadata": {},
   "source": [
    "Finally we will calculate the win percentage of the total number of games that each team has played from 2003-2015 and store that in a DataFrame."
   ]
  },
  {
   "cell_type": "code",
   "execution_count": 13,
   "metadata": {
    "collapsed": false
   },
   "outputs": [],
   "source": [
    "win_percent = (won_games.count() / total_games)[\"Season\"].reset_index()\n",
    "win_percent.rename(columns={\"Wteam\": \"Team_Id\", \"Season\": \"Total_Win_Percent\"}, inplace=True)\n",
    "win_percent.set_index(\"Team_Id\", inplace=True)"
   ]
  },
  {
   "cell_type": "code",
   "execution_count": 14,
   "metadata": {
    "collapsed": false
   },
   "outputs": [
    {
     "data": {
      "text/html": [
       "<div>\n",
       "<table border=\"1\" class=\"dataframe\">\n",
       "  <thead>\n",
       "    <tr style=\"text-align: right;\">\n",
       "      <th></th>\n",
       "      <th>Total_Win_Percent</th>\n",
       "    </tr>\n",
       "    <tr>\n",
       "      <th>Team_Id</th>\n",
       "      <th></th>\n",
       "    </tr>\n",
       "  </thead>\n",
       "  <tbody>\n",
       "    <tr>\n",
       "      <th>1101</th>\n",
       "      <td>0.183673</td>\n",
       "    </tr>\n",
       "    <tr>\n",
       "      <th>1102</th>\n",
       "      <td>0.504043</td>\n",
       "    </tr>\n",
       "    <tr>\n",
       "      <th>1103</th>\n",
       "      <td>0.648058</td>\n",
       "    </tr>\n",
       "    <tr>\n",
       "      <th>1104</th>\n",
       "      <td>0.584352</td>\n",
       "    </tr>\n",
       "    <tr>\n",
       "      <th>1105</th>\n",
       "      <td>0.358601</td>\n",
       "    </tr>\n",
       "  </tbody>\n",
       "</table>\n",
       "</div>"
      ],
      "text/plain": [
       "         Total_Win_Percent\n",
       "Team_Id                   \n",
       "1101              0.183673\n",
       "1102              0.504043\n",
       "1103              0.648058\n",
       "1104              0.584352\n",
       "1105              0.358601"
      ]
     },
     "execution_count": 14,
     "metadata": {},
     "output_type": "execute_result"
    }
   ],
   "source": [
    "win_percent.head()"
   ]
  },
  {
   "cell_type": "code",
   "execution_count": 15,
   "metadata": {
    "collapsed": false
   },
   "outputs": [],
   "source": [
    "assert len(win_percent) == 355\n",
    "assert win_percent.index.name == \"Team_Id\"\n",
    "assert list(win_percent.columns) == [\"Total_Win_Percent\"]"
   ]
  },
  {
   "cell_type": "markdown",
   "metadata": {},
   "source": [
    "### Plot The Data\n",
    "In this section we will explore different plots of this data to see the distribution of winning of all the teams and which teams are winning most of their games."
   ]
  },
  {
   "cell_type": "code",
   "execution_count": 16,
   "metadata": {
    "collapsed": false,
    "scrolled": true
   },
   "outputs": [
    {
     "data": {
      "image/png": "[encoded data removed]",
      "text/plain": [
       "<matplotlib.figure.Figure at 0x7ff5180c51d0>"
      ]
     },
     "metadata": {},
     "output_type": "display_data"
    }
   ],
   "source": [
    "plt.figure(figsize=(30, 10))\n",
    "sns.distplot(win_percent[\"Total_Win_Percent\"], bins=150)\n",
    "plt.xlabel(\"Win Percentage\")\n",
    "plt.ylabel(\"Kernel Density Function\");"
   ]
  },
  {
   "cell_type": "markdown",
   "metadata": {},
   "source": [
    "From the data and plot above it is pretty interesting to see that the win percentage of NCAA D1 teams is pretty much normally distributed.\n",
    "\n",
    "Next lets examine the extremes of our data and see which teams are winning most of the their games and which aren't."
   ]
  },
  {
   "cell_type": "markdown",
   "metadata": {},
   "source": [
    "### Plot Extremes\n",
    "In this section we will explore the extremes of our win percentage data. Let's first join the Team Name to the Win Percentage table so that we can examine teams more easily."
   ]
  },
  {
   "cell_type": "code",
   "execution_count": 17,
   "metadata": {
    "collapsed": false,
    "scrolled": true
   },
   "outputs": [],
   "source": [
    "win_percent = win_percent.join(teams)"
   ]
  },
  {
   "cell_type": "code",
   "execution_count": 18,
   "metadata": {
    "collapsed": false
   },
   "outputs": [
    {
     "data": {
      "text/html": [
       "<div>\n",
       "<table border=\"1\" class=\"dataframe\">\n",
       "  <thead>\n",
       "    <tr style=\"text-align: right;\">\n",
       "      <th></th>\n",
       "      <th>Total_Win_Percent</th>\n",
       "      <th>Team_Name</th>\n",
       "    </tr>\n",
       "    <tr>\n",
       "      <th>Team_Id</th>\n",
       "      <th></th>\n",
       "      <th></th>\n",
       "    </tr>\n",
       "  </thead>\n",
       "  <tbody>\n",
       "    <tr>\n",
       "      <th>1101</th>\n",
       "      <td>0.183673</td>\n",
       "      <td>Abilene Chr</td>\n",
       "    </tr>\n",
       "    <tr>\n",
       "      <th>1102</th>\n",
       "      <td>0.504043</td>\n",
       "      <td>Air Force</td>\n",
       "    </tr>\n",
       "    <tr>\n",
       "      <th>1103</th>\n",
       "      <td>0.648058</td>\n",
       "      <td>Akron</td>\n",
       "    </tr>\n",
       "    <tr>\n",
       "      <th>1104</th>\n",
       "      <td>0.584352</td>\n",
       "      <td>Alabama</td>\n",
       "    </tr>\n",
       "    <tr>\n",
       "      <th>1105</th>\n",
       "      <td>0.358601</td>\n",
       "      <td>Alabama A&amp;M</td>\n",
       "    </tr>\n",
       "  </tbody>\n",
       "</table>\n",
       "</div>"
      ],
      "text/plain": [
       "         Total_Win_Percent    Team_Name\n",
       "Team_Id                                \n",
       "1101              0.183673  Abilene Chr\n",
       "1102              0.504043    Air Force\n",
       "1103              0.648058        Akron\n",
       "1104              0.584352      Alabama\n",
       "1105              0.358601  Alabama A&M"
      ]
     },
     "execution_count": 18,
     "metadata": {},
     "output_type": "execute_result"
    }
   ],
   "source": [
    "win_percent.head()"
   ]
  },
  {
   "cell_type": "markdown",
   "metadata": {},
   "source": [
    "Reset the index to **Team_Name** to easily examine the data."
   ]
  },
  {
   "cell_type": "code",
   "execution_count": 19,
   "metadata": {
    "collapsed": false
   },
   "outputs": [],
   "source": [
    "win_percent = win_percent.reset_index().set_index(\"Team_Name\")"
   ]
  },
  {
   "cell_type": "markdown",
   "metadata": {},
   "source": [
    "Define a function that we can pass to **interact** so that we can examine our data."
   ]
  },
  {
   "cell_type": "code",
   "execution_count": 20,
   "metadata": {
    "collapsed": true
   },
   "outputs": [],
   "source": [
    "def plot_wp_extremes(num_teams, ascending):\n",
    "    sorted_wp = win_percent.sort_values([\"Total_Win_Percent\"], ascending=ascending)\n",
    "    plt.figure(figsize=(20, 10))\n",
    "    sorted_wp[\"Total_Win_Percent\"][:num_teams].plot(kind=\"barh\")\n",
    "    plt.xlabel(\"Win Percentage\")\n",
    "    plt.ylabel(\"Team Name\")"
   ]
  },
  {
   "cell_type": "code",
   "execution_count": 21,
   "metadata": {
    "collapsed": false,
    "scrolled": false
   },
   "outputs": [
    {
     "data": {
      "text/plain": [
       "<function __main__.plot_wp_extremes>"
      ]
     },
     "execution_count": 21,
     "metadata": {},
     "output_type": "execute_result"
    }
   ],
   "source": [
    "interact(plot_wp_extremes, num_teams=(1, 50), ascending=True, __manual=True)"
   ]
  },
  {
   "cell_type": "markdown",
   "metadata": {},
   "source": [
    "Through examination of this plot we can see that **Duke** has a very heigh overall win percentage. They win almost all of their games! While **Morris Brown** wins almost none of their games!"
   ]
  },
  {
   "cell_type": "code",
   "execution_count": 22,
   "metadata": {
    "collapsed": false,
    "scrolled": true
   },
   "outputs": [
    {
     "name": "stdout",
     "output_type": "stream",
     "text": [
      "HI Win Percentage: 0.821120689655, Duke\n",
      "LO Win Percentage: 0.166666666667, Morris Brown\n"
     ]
    }
   ],
   "source": [
    "print(\"HI Win Percentage: \" + str(win_percent.loc[\"Duke\"][\"Total_Win_Percent\"]) + \", Duke\")\n",
    "print(\"LO Win Percentage: \" + str(win_percent.loc[\"Morris Brown\"][\"Total_Win_Percent\"]) + \", Morris Brown\")"
   ]
  },
  {
   "cell_type": "markdown",
   "metadata": {
    "collapsed": true
   },
   "source": [
    "## 2. Correlation Between Field Goal Attempts and Winning\n",
    "In this section we will examine our second question - Do teams with higher numbers of field goal attempts win more of their games?"
   ]
  },
  {
   "cell_type": "markdown",
   "metadata": {},
   "source": [
    "The first thing we will do is compute the sum of the field goal attempts for each team and the join it to the win percent table to see over the course of all the seasons if there is a correlation among higher field goal attempts and higher win percentages."
   ]
  },
  {
   "cell_type": "code",
   "execution_count": 23,
   "metadata": {
    "collapsed": false
   },
   "outputs": [
    {
     "data": {
      "image/png": "[encoded data removed]",
      "text/plain": [
       "<matplotlib.figure.Figure at 0x7ff517733470>"
      ]
     },
     "metadata": {},
     "output_type": "display_data"
    }
   ],
   "source": [
    "# seaprate out games won and lose and calculate fga\n",
    "won_games_fga = won_games.sum()[\"Wfga\"] + won_games.sum()[\"Wfta\"]\n",
    "lost_games_fga = lost_games.sum()[\"Lfga\"] + lost_games.sum()[\"Lfta\"]\n",
    "field_goals = pd.DataFrame((won_games_fga + lost_games_fga) / total_games.count()[\"Wfga\"])\n",
    "\n",
    "# join this resulting DataFrame onto the win_percent DataFrame\n",
    "joined_fg_wp = win_percent.join(field_goals, on=\"Team_Id\")\n",
    "joined_fg_wp.rename(columns={0: \"Avg_FG_Attempts\"}, inplace=True)\n",
    "\n",
    "# plot the data\n",
    "joined_fg_wp.plot(x=\"Avg_FG_Attempts\", y=\"Total_Win_Percent\", kind=\"scatter\")\n",
    "plt.xlabel(\"Average Field Goal Attempts Per Game\")\n",
    "plt.ylabel(\"Win Percentage Accross All Games\");"
   ]
  },
  {
   "cell_type": "markdown",
   "metadata": {},
   "source": [
    "The above correlation is very interesting. Although there are some outliers, the graph has somewhat of a correlation between the average number of field goal attempts per game and the win percentage of the team. The higher the average field goal attempts per game, the higher the total win percentage of the team."
   ]
  },
  {
   "cell_type": "markdown",
   "metadata": {},
   "source": [
    "## 3. Homefield Advantage\n",
    "In this section we will examine our third question - Do teams who play games at home have an advantage over their opposing teams?"
   ]
  },
  {
   "cell_type": "code",
   "execution_count": 24,
   "metadata": {
    "collapsed": false
   },
   "outputs": [],
   "source": [
    "win_location = joined_game_data.groupby(\"Wloc\").count()[\"Season\"]"
   ]
  },
  {
   "cell_type": "markdown",
   "metadata": {},
   "source": [
    "Extract the home games, away games, and netural games to separate variables. These variables represent the number of games that were won while the winning team was away, home, or in a neutral court."
   ]
  },
  {
   "cell_type": "code",
   "execution_count": 25,
   "metadata": {
    "collapsed": false
   },
   "outputs": [],
   "source": [
    "away_games = win_location[\"A\"]\n",
    "home_games = win_location[\"H\"]\n",
    "neutral_games = win_location[\"N\"]\n",
    "total_games = away_games + home_games + neutral_games"
   ]
  },
  {
   "cell_type": "code",
   "execution_count": 26,
   "metadata": {
    "collapsed": false
   },
   "outputs": [],
   "source": [
    "assert (away_games + home_games + neutral_games) == (len(past_season_data) + len(past_tourney_data))"
   ]
  },
  {
   "cell_type": "markdown",
   "metadata": {},
   "source": [
    "Lets calculate the percentages of winning teams that won while at home, away, and on a neutral court:"
   ]
  },
  {
   "cell_type": "code",
   "execution_count": 27,
   "metadata": {
    "collapsed": false
   },
   "outputs": [
    {
     "name": "stdout",
     "output_type": "stream",
     "text": [
      "Winning Teams Win Away 30.0708943479% of the time\n",
      "Winning Teams Win Home 58.8872734903% of the time\n",
      "Winning Teams Win Neutral 11.0418321618% of the time\n"
     ]
    }
   ],
   "source": [
    "print(\"Winning Teams Win Away \" + str(away_games / total_games * 100) + \"% of the time\")\n",
    "print(\"Winning Teams Win Home \" + str(home_games / total_games * 100) + \"% of the time\")\n",
    "print(\"Winning Teams Win Neutral \" + str(neutral_games / total_games * 100) + \"% of the time\")"
   ]
  },
  {
   "cell_type": "markdown",
   "metadata": {},
   "source": [
    "This is a very unexpected outcome. One would think that the data would be very normal with 66,000 games. One would think that $\\frac{1}{3}$ of the time teams would win Away, $\\frac{1}{3}$ of the time teams would win at Home, and $\\frac{1}{3}$ of the time teams would win on Neutral Courts. The above calculation shows that there is a significant correlation between playing as the home team and winning."
   ]
  },
  {
   "cell_type": "markdown",
   "metadata": {},
   "source": [
    "# Calculating Team Statistics\n",
    "In this section I used the detailed data about regular season games to calculate important game data for each team for each season of basketball:\n",
    "\n",
    "- Win Percentage\n",
    "- Points Per Game (PPG)\n",
    "- % Field Goals Made\n",
    "- % Free Throws Made\n",
    "- % 3 Pointers Made\n",
    "- Offensive Rebounds Per Game\n",
    "- Defensive Rebounds Per Game\n",
    "- Assists Per Game\n",
    "- Turnovers Per Game\n",
    "- Steals Per Game\n",
    "- Blocks Per Game\n",
    "- Personal Fouls Per Game"
   ]
  },
  {
   "cell_type": "markdown",
   "metadata": {},
   "source": [
    "## The NCAA Helper Script\n",
    "The following import statement includes the functions necessary for this section. The **ncaa_helper** script includes all helper functions for calculating season data as well as individual game data and includes helper calculation functions for calculating the above team statistics. For more details about this file please reference the file named **ncaa_helper.py**."
   ]
  },
  {
   "cell_type": "code",
   "execution_count": 28,
   "metadata": {
    "collapsed": true
   },
   "outputs": [],
   "source": [
    "import ncaa_helper as nh"
   ]
  },
  {
   "cell_type": "markdown",
   "metadata": {},
   "source": [
    "## Plotting Team Data For Correlation Analysis\n",
    "In this section we will use the combined seasonal averages for each team to show correlations between variables in a given season for all the teams. This correlation can be used to determine how one variable affects winning or even another variable."
   ]
  },
  {
   "cell_type": "markdown",
   "metadata": {},
   "source": [
    "Here is the function we will use to plot the data we will be analyzing per season:"
   ]
  },
  {
   "cell_type": "code",
   "execution_count": 29,
   "metadata": {
    "collapsed": true
   },
   "outputs": [],
   "source": [
    "def plot_year_data2(year, x_column, y_column):\n",
    "    year_data = nh.beautify_columns(nh.calc_year_data(year, past_season_data, teams))\n",
    "    sns.jointplot(x=x_column, y=y_column, data=year_data);"
   ]
  },
  {
   "cell_type": "code",
   "execution_count": 30,
   "metadata": {
    "collapsed": false
   },
   "outputs": [
    {
     "data": {
      "image/png": "[encoded data removed]",
      "text/plain": [
       "<matplotlib.figure.Figure at 0x7ff517514a58>"
      ]
     },
     "metadata": {},
     "output_type": "display_data"
    }
   ],
   "source": [
    "interact(plot_year_data2, year=(2003, 2015), x_column=nh.beautiful_columns, y_column=nh.beautiful_columns, __manual=True);"
   ]
  },
  {
   "cell_type": "markdown",
   "metadata": {},
   "source": [
    "# Saving The Newly Calculated Data\n",
    "Now that we can calculate season data for each team we can save this data as well as the data above for future use if needed in a pickle."
   ]
  },
  {
   "cell_type": "markdown",
   "metadata": {},
   "source": [
    "This function goes through each year and appends on the data to a DataFrame for storage:"
   ]
  },
  {
   "cell_type": "code",
   "execution_count": 31,
   "metadata": {
    "collapsed": false
   },
   "outputs": [],
   "source": [
    "def calc_all_team_data(years):\n",
    "    data = pd.DataFrame()\n",
    "    \n",
    "    for year in years:\n",
    "        data = data.append(nh.calc_year_data(year, past_season_data, teams))\n",
    "    \n",
    "    return data"
   ]
  },
  {
   "cell_type": "code",
   "execution_count": 32,
   "metadata": {
    "collapsed": false
   },
   "outputs": [],
   "source": [
    "years = [2003, 2004, 2005, 2006, 2007, 2008, 2009, 2010, 2011, 2012, 2013, 2014, 2015]\n",
    "\n",
    "all_dat = calc_all_team_data(years)"
   ]
  },
  {
   "cell_type": "code",
   "execution_count": 33,
   "metadata": {
    "collapsed": false
   },
   "outputs": [
    {
     "data": {
      "text/html": [
       "<div>\n",
       "<table border=\"1\" class=\"dataframe\">\n",
       "  <thead>\n",
       "    <tr style=\"text-align: right;\">\n",
       "      <th></th>\n",
       "      <th>Team_Name</th>\n",
       "      <th>Season</th>\n",
       "      <th>wp</th>\n",
       "      <th>ppg</th>\n",
       "      <th>fgp</th>\n",
       "      <th>ftp</th>\n",
       "      <th>fgp3</th>\n",
       "      <th>or</th>\n",
       "      <th>dr</th>\n",
       "      <th>ast</th>\n",
       "      <th>to</th>\n",
       "      <th>stl</th>\n",
       "      <th>blk</th>\n",
       "      <th>pf</th>\n",
       "    </tr>\n",
       "    <tr>\n",
       "      <th>Team_Id</th>\n",
       "      <th></th>\n",
       "      <th></th>\n",
       "      <th></th>\n",
       "      <th></th>\n",
       "      <th></th>\n",
       "      <th></th>\n",
       "      <th></th>\n",
       "      <th></th>\n",
       "      <th></th>\n",
       "      <th></th>\n",
       "      <th></th>\n",
       "      <th></th>\n",
       "      <th></th>\n",
       "      <th></th>\n",
       "    </tr>\n",
       "  </thead>\n",
       "  <tbody>\n",
       "    <tr>\n",
       "      <th>1102</th>\n",
       "      <td>Air Force</td>\n",
       "      <td>2003</td>\n",
       "      <td>0.428571</td>\n",
       "      <td>57.250000</td>\n",
       "      <td>0.481149</td>\n",
       "      <td>0.651357</td>\n",
       "      <td>0.375643</td>\n",
       "      <td>6.178571</td>\n",
       "      <td>16.000000</td>\n",
       "      <td>13.000000</td>\n",
       "      <td>11.428571</td>\n",
       "      <td>5.678571</td>\n",
       "      <td>1.785714</td>\n",
       "      <td>18.750000</td>\n",
       "    </tr>\n",
       "    <tr>\n",
       "      <th>1103</th>\n",
       "      <td>Akron</td>\n",
       "      <td>2003</td>\n",
       "      <td>0.481481</td>\n",
       "      <td>78.777778</td>\n",
       "      <td>0.486074</td>\n",
       "      <td>0.736390</td>\n",
       "      <td>0.338710</td>\n",
       "      <td>10.962963</td>\n",
       "      <td>20.000000</td>\n",
       "      <td>15.222222</td>\n",
       "      <td>12.629630</td>\n",
       "      <td>6.629630</td>\n",
       "      <td>2.333333</td>\n",
       "      <td>19.851852</td>\n",
       "    </tr>\n",
       "    <tr>\n",
       "      <th>1104</th>\n",
       "      <td>Alabama</td>\n",
       "      <td>2003</td>\n",
       "      <td>0.607143</td>\n",
       "      <td>69.285714</td>\n",
       "      <td>0.420362</td>\n",
       "      <td>0.709898</td>\n",
       "      <td>0.320144</td>\n",
       "      <td>15.035714</td>\n",
       "      <td>29.928571</td>\n",
       "      <td>12.107143</td>\n",
       "      <td>13.285714</td>\n",
       "      <td>7.535714</td>\n",
       "      <td>3.785714</td>\n",
       "      <td>18.035714</td>\n",
       "    </tr>\n",
       "    <tr>\n",
       "      <th>1105</th>\n",
       "      <td>Alabama A&amp;M</td>\n",
       "      <td>2003</td>\n",
       "      <td>0.269231</td>\n",
       "      <td>71.769231</td>\n",
       "      <td>0.395755</td>\n",
       "      <td>0.705986</td>\n",
       "      <td>0.364815</td>\n",
       "      <td>7.461538</td>\n",
       "      <td>13.307692</td>\n",
       "      <td>14.538462</td>\n",
       "      <td>18.653846</td>\n",
       "      <td>4.961538</td>\n",
       "      <td>2.076923</td>\n",
       "      <td>20.230769</td>\n",
       "    </tr>\n",
       "    <tr>\n",
       "      <th>1106</th>\n",
       "      <td>Alabama St</td>\n",
       "      <td>2003</td>\n",
       "      <td>0.464286</td>\n",
       "      <td>63.607143</td>\n",
       "      <td>0.423773</td>\n",
       "      <td>0.646421</td>\n",
       "      <td>0.346154</td>\n",
       "      <td>11.250000</td>\n",
       "      <td>22.107143</td>\n",
       "      <td>11.678571</td>\n",
       "      <td>17.035714</td>\n",
       "      <td>8.392857</td>\n",
       "      <td>3.142857</td>\n",
       "      <td>18.178571</td>\n",
       "    </tr>\n",
       "  </tbody>\n",
       "</table>\n",
       "</div>"
      ],
      "text/plain": [
       "           Team_Name  Season        wp        ppg       fgp       ftp  \\\n",
       "Team_Id                                                                 \n",
       "1102       Air Force    2003  0.428571  57.250000  0.481149  0.651357   \n",
       "1103           Akron    2003  0.481481  78.777778  0.486074  0.736390   \n",
       "1104         Alabama    2003  0.607143  69.285714  0.420362  0.709898   \n",
       "1105     Alabama A&M    2003  0.269231  71.769231  0.395755  0.705986   \n",
       "1106      Alabama St    2003  0.464286  63.607143  0.423773  0.646421   \n",
       "\n",
       "             fgp3         or         dr        ast         to       stl  \\\n",
       "Team_Id                                                                   \n",
       "1102     0.375643   6.178571  16.000000  13.000000  11.428571  5.678571   \n",
       "1103     0.338710  10.962963  20.000000  15.222222  12.629630  6.629630   \n",
       "1104     0.320144  15.035714  29.928571  12.107143  13.285714  7.535714   \n",
       "1105     0.364815   7.461538  13.307692  14.538462  18.653846  4.961538   \n",
       "1106     0.346154  11.250000  22.107143  11.678571  17.035714  8.392857   \n",
       "\n",
       "              blk         pf  \n",
       "Team_Id                       \n",
       "1102     1.785714  18.750000  \n",
       "1103     2.333333  19.851852  \n",
       "1104     3.785714  18.035714  \n",
       "1105     2.076923  20.230769  \n",
       "1106     3.142857  18.178571  "
      ]
     },
     "execution_count": 33,
     "metadata": {},
     "output_type": "execute_result"
    }
   ],
   "source": [
    "all_dat.head()"
   ]
  },
  {
   "cell_type": "code",
   "execution_count": 34,
   "metadata": {
    "collapsed": false
   },
   "outputs": [],
   "source": [
    "assert len(all_dat) == 4421\n",
    "assert list(all_dat.columns) == [\"Team_Name\", \"Season\"] + nh.seasonal_columns\n",
    "assert all_dat.index.name == \"Team_Id\""
   ]
  },
  {
   "cell_type": "markdown",
   "metadata": {},
   "source": [
    "Save all data to a pickle:"
   ]
  },
  {
   "cell_type": "code",
   "execution_count": 35,
   "metadata": {
    "collapsed": false
   },
   "outputs": [],
   "source": [
    "all_dat.to_pickle(\"calculated_past_team_seasonal_data\")"
   ]
  }
 ],
 "metadata": {
  "kernelspec": {
   "display_name": "Python 3",
   "language": "python",
   "name": "python3"
  },
  "language_info": {
   "codemirror_mode": {
    "name": "ipython",
    "version": 3
   },
   "file_extension": ".py",
   "mimetype": "text/x-python",
   "name": "python",
   "nbconvert_exporter": "python",
   "pygments_lexer": "ipython3",
   "version": "3.4.3"
  }
 },
 "nbformat": 4,
 "nbformat_minor": 0
}
