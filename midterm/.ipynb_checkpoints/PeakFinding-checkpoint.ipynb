{
 "cells": [
  {
   "cell_type": "markdown",
   "metadata": {
    "nbgrader": {}
   },
   "source": [
    "# Peak Finding"
   ]
  },
  {
   "cell_type": "markdown",
   "metadata": {},
   "source": [
    "In this notebook, you will learn about finding peaks in the values of an array."
   ]
  },
  {
   "cell_type": "markdown",
   "metadata": {
    "nbgrader": {}
   },
   "source": [
    "## Imports"
   ]
  },
  {
   "cell_type": "code",
   "execution_count": 1,
   "metadata": {
    "collapsed": true,
    "nbgrader": {}
   },
   "outputs": [],
   "source": [
    "%matplotlib inline\n",
    "from matplotlib import pyplot as plt\n",
    "import seaborn as sns\n",
    "import numpy as np"
   ]
  },
  {
   "cell_type": "markdown",
   "metadata": {
    "nbgrader": {}
   },
   "source": [
    "## Peak finding"
   ]
  },
  {
   "cell_type": "markdown",
   "metadata": {
    "nbgrader": {}
   },
   "source": [
    "Write a function, `find_peaks`, that finds and returns the indices of the *local maxima* in a sequence of values in an array. A *local maxima* is defined as a value whose neighboring values are all smaller. Your function should:\n",
    "\n",
    "* Properly handle local maxima at the endpoints of the input array.\n",
    "* Return a Numpy array of integer indices.\n",
    "* Handle any Python iterable as input."
   ]
  },
  {
   "cell_type": "code",
   "execution_count": 2,
   "metadata": {
    "collapsed": false,
    "deletable": false,
    "nbgrader": {
     "checksum": "0c28c6d9be0c7badfa4e309fbb07ea1b",
     "grade": false,
     "grade_id": "peakfinding-a",
     "locked": false,
     "solution": true
    }
   },
   "outputs": [],
   "source": [
    "def find_peaks(a):\n",
    "    \"\"\"Find the indices of the local maxima in a sequence.\"\"\"\n",
    "    peaks = []\n",
    "    \n",
    "    for ndx in range(len(a)):\n",
    "        left_ndx = ndx - 1 if ndx > 0 else None\n",
    "        right_ndx = ndx + 1 if ndx < len(a) - 1 else None\n",
    "        \n",
    "        #we're at the left side of array\n",
    "        if left_ndx is None and right_ndx is not None and a[ndx] > a[right_ndx]:\n",
    "            peaks.append(ndx)\n",
    "        #we're at the right end of array\n",
    "        elif right_ndx is None and left_ndx is not None and a[ndx] > a[left_ndx]:\n",
    "            peaks.append(ndx)\n",
    "        #we're everywhere else in middle of array\n",
    "        elif left_ndx is not None and right_ndx is not None and a[ndx] > a[left_ndx] and a[ndx] > a[right_ndx]:\n",
    "            peaks.append(ndx)\n",
    "    \n",
    "    return np.array(peaks)\n",
    "            "
   ]
  },
  {
   "cell_type": "code",
   "execution_count": 3,
   "metadata": {
    "collapsed": false,
    "deletable": false,
    "nbgrader": {
     "checksum": "9ff86e3e27c9e708c4beb23d901caacd",
     "grade": true,
     "grade_id": "peakfinding-b",
     "points": 5
    }
   },
   "outputs": [],
   "source": [
    "p1 = find_peaks([2,0,1,0,2,0,1])\n",
    "assert np.allclose(p1, np.array([0,2,4,6]))\n",
    "p2 = find_peaks(np.array([0,1,2,3]))\n",
    "assert np.allclose(p2, np.array([3]))\n",
    "p3 = find_peaks([3,2,1,0])\n",
    "assert np.allclose(p3, np.array([0]))"
   ]
  },
  {
   "cell_type": "markdown",
   "metadata": {},
   "source": [
    "Here is a string with the first 10000 digits of $\\pi$ (after the decimal):"
   ]
  },
  {
   "cell_type": "code",
   "execution_count": 4,
   "metadata": {
    "collapsed": true,
    "nbgrader": {}
   },
   "outputs": [],
   "source": [
    "from sympy import pi, N\n",
    "pi_digits_str = str(N(pi, 10001))[2:]"
   ]
  },
  {
   "cell_type": "markdown",
   "metadata": {
    "nbgrader": {}
   },
   "source": [
    "Write code to perform the following:\n",
    "\n",
    "* Convert that string to a Numpy array of integers.\n",
    "* Find the indices of the local maxima in the digits of $\\pi$.\n",
    "* Use `np.diff` to find the distances between consequtive local maxima.\n",
    "* Visualize that distribution using an appropriately labeled Seaborn `countplot`."
   ]
  },
  {
   "cell_type": "code",
   "execution_count": 5,
   "metadata": {
    "collapsed": false,
    "deletable": false,
    "nbgrader": {
     "checksum": "a6ae6edbbf49df54a60db160ecfd8c72",
     "grade": true,
     "grade_id": "peakfinding-c",
     "locked": false,
     "points": 5,
     "solution": true
    }
   },
   "outputs": [
    {
     "data": {
      "image/png": "[encoded data removed]",
      "text/plain": [
       "<matplotlib.figure.Figure at 0x7f25090d3f60>"
      ]
     },
     "metadata": {},
     "output_type": "display_data"
    }
   ],
   "source": [
    "def convert_digits(s):\n",
    "    digits = []\n",
    "\n",
    "    for num in pi_digits_str:\n",
    "        digits.append(num)\n",
    "    \n",
    "    return np.array(digits)\n",
    "\n",
    "peaks = find_peaks(convert_digits(pi_digits_str))\n",
    "differences = np.diff(peaks)\n",
    "\n",
    "sns.countplot(differences)\n",
    "sns.axlabel(\"Maxima Differences\",\"Count\")"
   ]
  },
  {
   "cell_type": "code",
   "execution_count": null,
   "metadata": {
    "collapsed": true
   },
   "outputs": [],
   "source": []
  }
 ],
 "metadata": {
  "kernelspec": {
   "display_name": "Python 3",
   "language": "python",
   "name": "python3"
  },
  "language_info": {
   "codemirror_mode": {
    "name": "ipython",
    "version": 3
   },
   "file_extension": ".py",
   "mimetype": "text/x-python",
   "name": "python",
   "nbconvert_exporter": "python",
   "pygments_lexer": "ipython3",
   "version": "3.4.3"
  }
 },
 "nbformat": 4,
 "nbformat_minor": 0
}
